{
 "cells": [
  {
   "cell_type": "markdown",
   "metadata": {},
   "source": [
    "Dictionary\n",
    "* key : value pair(items)\n",
    "* key is replacement of index\n"
   ]
  },
  {
   "cell_type": "code",
   "execution_count": 9,
   "metadata": {},
   "outputs": [
    {
     "name": "stdout",
     "output_type": "stream",
     "text": [
      "Muhammad Qasim\n",
      "{'fname': 'Muhammad Aslam', 'name': 'Muhammad Qasim', 'education': 'MSDS', 'salary': '788'}\n",
      "{'education': 'MSDS',\n",
      " 'fname': 'Muhammad Aslam',\n",
      " 'name': 'Muhammad Qasim',\n",
      " 'salary': '788'}\n"
     ]
    }
   ],
   "source": [
    "from typing import Dict, Union\n",
    "import pprint\n",
    "Type = Union[str,int]\n",
    "data : Dict[str,Type] = {\"fname\" : \"Muhammad Aslam\",\n",
    "\"name\" : \"Muhammad Qasim\",\n",
    "\"education\" : \"MSDS\"\n",
    "}\n",
    "print(data['name'])#we can access any value using this syntax\n",
    "data['salary'] = '788' #we can add any key value pair \n",
    "print(data)\n",
    "pprint.pprint(data)"
   ]
  },
  {
   "cell_type": "code",
   "execution_count": 10,
   "metadata": {},
   "outputs": [
    {
     "name": "stdout",
     "output_type": "stream",
     "text": [
      "{'education': 'MSDS', 'fname': 'Muhammad Aslam', 'name': 'Muhammad Qasim'}\n"
     ]
    }
   ],
   "source": [
    "from typing import Dict, Union, Optional\n",
    "import pprint\n",
    "key = Union[int,str]\n",
    "value = Union[int, str, list, dict, tuple, set]\n",
    "\n",
    "data : Dict[key, value] = {\n",
    "    \"fname\" : \"Muhammad Aslam\",\n",
    "\"name\" : \"Muhammad Qasim\",\n",
    "\"education\" : \"MSDS\"\n",
    "}\n",
    "pprint.pprint(data)"
   ]
  },
  {
   "cell_type": "code",
   "execution_count": 37,
   "metadata": {},
   "outputs": [
    {
     "name": "stdout",
     "output_type": "stream",
     "text": [
      "Muhammad Aslam\n",
      "Pakistan\n",
      "(1, 2, 3)\n",
      "{0: 'Pakistan',\n",
      " 'abc': [1, 2, 3],\n",
      " 'cde': (1, 2, 3),\n",
      " 'education': 'MSDS',\n",
      " 'efg': {1, 2, 3},\n",
      " 'fgh': {'a': 1, 'b': 2},\n",
      " 'fname': 'Muhammad Aslam',\n",
      " 'name': 'Muhammad Qasim'}\n"
     ]
    }
   ],
   "source": [
    "from typing import Dict, Union, Optional\n",
    "import pprint\n",
    "key = Union[int,str]\n",
    "value = Union[int, str, list, dict, tuple, set]\n",
    "\n",
    "data : Dict[key, value] = {\n",
    "\"fname\" : \"Muhammad Aslam\",\n",
    "#[1,2,3]:\"pakistan\" error\n",
    "#(1,2,3):\"pakistan\" error\n",
    "#{1,2,3}:\"pakistan\" error\n",
    "'fgh':{\"a\":1,\"b\":2},\n",
    "\"abc\":[1,2,3],\n",
    "'efg':{1,2,3},\n",
    "'cde':(1,2,3),\n",
    "\n",
    "\"name\" : \"Muhammad Qasim\",\n",
    "\"education\" : \"MSDS\",\n",
    "0 : \"Pakistan\"\n",
    "}\n",
    "print(data['fname'])#this is how we get the value\n",
    "print(data[0])\n",
    "print(data['cde'])\n",
    "pprint.pprint(data)"
   ]
  },
  {
   "cell_type": "code",
   "execution_count": 18,
   "metadata": {},
   "outputs": [
    {
     "name": "stdout",
     "output_type": "stream",
     "text": [
      "{1, 2, 3, 7}\n"
     ]
    },
    {
     "ename": "TypeError",
     "evalue": "'set' object is not subscriptable",
     "output_type": "error",
     "traceback": [
      "\u001b[1;31m---------------------------------------------------------------------------\u001b[0m",
      "\u001b[1;31mTypeError\u001b[0m                                 Traceback (most recent call last)",
      "Cell \u001b[1;32mIn[18], line 4\u001b[0m\n\u001b[0;32m      2\u001b[0m \u001b[38;5;28mprint\u001b[39m(data)\n\u001b[0;32m      3\u001b[0m \u001b[38;5;66;03m#indeing cannot be applied\u001b[39;00m\n\u001b[1;32m----> 4\u001b[0m \u001b[38;5;28mprint\u001b[39m(\u001b[43mdata\u001b[49m\u001b[43m[\u001b[49m\u001b[38;5;241;43m0\u001b[39;49m\u001b[43m]\u001b[49m)\u001b[38;5;66;03m#error\u001b[39;00m\n",
      "\u001b[1;31mTypeError\u001b[0m: 'set' object is not subscriptable"
     ]
    }
   ],
   "source": [
    "data : set = {7,1,2,1,1,3,2}\n",
    "print(data)\n",
    "#indeing cannot be applied\n",
    "print(data[0])#error"
   ]
  },
  {
   "cell_type": "code",
   "execution_count": 21,
   "metadata": {},
   "outputs": [
    {
     "data": {
      "text/plain": [
       "['add',\n",
       " 'clear',\n",
       " 'copy',\n",
       " 'difference',\n",
       " 'difference_update',\n",
       " 'discard',\n",
       " 'intersection',\n",
       " 'intersection_update',\n",
       " 'isdisjoint',\n",
       " 'issubset',\n",
       " 'issuperset',\n",
       " 'pop',\n",
       " 'remove',\n",
       " 'symmetric_difference',\n",
       " 'symmetric_difference_update',\n",
       " 'union',\n",
       " 'update']"
      ]
     },
     "execution_count": 21,
     "metadata": {},
     "output_type": "execute_result"
    }
   ],
   "source": [
    "[i for i in dir(data) if \"__\" not in i]"
   ]
  },
  {
   "cell_type": "markdown",
   "metadata": {},
   "source": [
    "cannot pass any unhashable data type in key value"
   ]
  },
  {
   "cell_type": "code",
   "execution_count": 31,
   "metadata": {},
   "outputs": [
    {
     "name": "stdout",
     "output_type": "stream",
     "text": [
      "{1, 2, 3, 4, 5, 6, 7, 8}\n",
      "[1, 2, 3, 4, 5, 6, 7, 8]\n"
     ]
    }
   ],
   "source": [
    "abc : set = {1,2,3,4,5,6,7,8,1,2,3,4}\n",
    "print(abc)\n",
    "xyz:list[int] = list(abc)\n",
    "print(xyz)"
   ]
  },
  {
   "cell_type": "code",
   "execution_count": 38,
   "metadata": {},
   "outputs": [
    {
     "name": "stdout",
     "output_type": "stream",
     "text": [
      "2\n"
     ]
    }
   ],
   "source": [
    "from typing import Dict, Union, Optional\n",
    "import pprint\n",
    "key = Union[int,str]\n",
    "value = Union[int, str, list, dict, tuple, set]\n",
    "\n",
    "data : Dict[key, value] = {\n",
    "\"fname\" : \"Muhammad Aslam\",\n",
    "#[1,2,3]:\"pakistan\" error\n",
    "#(1,2,3):\"pakistan\" error\n",
    "#{1,2,3}:\"pakistan\" error\n",
    "'fgh':{\"a\":1,\"b\":2},\n",
    "\"abc\":[1,2,3],\n",
    "'efg':{1,2,3},\n",
    "'cde':(1,2,3),\n",
    "\n",
    "\"name\" : \"Muhammad Qasim\",\n",
    "\"education\" : \"MSDS\",\n",
    "0 : \"Pakistan\"\n",
    "}\n",
    "print(data['fgh']['b'])"
   ]
  },
  {
   "cell_type": "code",
   "execution_count": 42,
   "metadata": {},
   "outputs": [
    {
     "name": "stdout",
     "output_type": "stream",
     "text": [
      "{'education': 'MSDS', 'fname': 'Muhammad Aslam', 'name': 'Muhammad Qasim'}\n",
      "{'name': 'M.Qasim', 'fname': 'Muhammad Aslam', 'education': 'MSDS'}\n"
     ]
    }
   ],
   "source": [
    "from typing import Dict, Union, Optional\n",
    "import pprint\n",
    "key = Union[int,str]\n",
    "value = Union[int, str, list, dict, tuple, set]\n",
    "\n",
    "data : dict[key,value] = {}\n",
    "data['name'] = \"Muhammad Qasim\"\n",
    "data['fname'] = \"Muhammad Aslam\"\n",
    "data['education'] = 'MSDS'\n",
    "#can add value using assign operator\n",
    "pprint.pprint(data)\n",
    "#can update value using assign operator\n",
    "\n",
    "data['name'] = \"M.Qasim\"\n",
    "print(data)#value of name updated\n"
   ]
  },
  {
   "cell_type": "code",
   "execution_count": 43,
   "metadata": {},
   "outputs": [
    {
     "data": {
      "text/plain": [
       "['clear',\n",
       " 'copy',\n",
       " 'fromkeys',\n",
       " 'get',\n",
       " 'items',\n",
       " 'keys',\n",
       " 'pop',\n",
       " 'popitem',\n",
       " 'setdefault',\n",
       " 'update',\n",
       " 'values']"
      ]
     },
     "execution_count": 43,
     "metadata": {},
     "output_type": "execute_result"
    }
   ],
   "source": [
    "data : Dict[key,value] = {\"name\":\"Suhaib\",\n",
    "                          \"fname\":\"Shaikh Mohsin\",\n",
    "                          \"education\":\"BSCS\"}\n",
    "[i for i in dir(data) if \"__\" not in i]"
   ]
  },
  {
   "cell_type": "code",
   "execution_count": 45,
   "metadata": {},
   "outputs": [
    {
     "name": "stdout",
     "output_type": "stream",
     "text": [
      "Not available\n"
     ]
    }
   ],
   "source": [
    "#get\n",
    "data : Dict[key,value] = {\"name\":\"Suhaib\",\n",
    "                          \"fname\":\"Shaikh Mohsin\",\n",
    "                          \"education\":\"BSCS\"}\n",
    "#print(data['pakistan']) error\n",
    "#get method = if key is not present so it does not give error\n",
    "print(data.get('pakistan',\"Not available\"))\n"
   ]
  },
  {
   "cell_type": "code",
   "execution_count": 46,
   "metadata": {},
   "outputs": [
    {
     "name": "stdout",
     "output_type": "stream",
     "text": [
      "name\n",
      "fname\n",
      "education\n"
     ]
    }
   ],
   "source": [
    "data : Dict[key,value] = {\"name\":\"Suhaib\",\n",
    "                          \"fname\":\"Shaikh Mohsin\",\n",
    "                          \"education\":\"BSCS\"}\n",
    "for d in data:\n",
    "    print(d)#keys\n",
    "    "
   ]
  },
  {
   "cell_type": "code",
   "execution_count": 52,
   "metadata": {},
   "outputs": [
    {
     "name": "stdout",
     "output_type": "stream",
     "text": [
      "dict_keys(['name', 'fname', 'education'])\n",
      "dict_values(['Suhaib', 'Shaikh Mohsin', 'BSCS'])\n",
      "dict_items([('name', 'Suhaib'), ('fname', 'Shaikh Mohsin'), ('education', 'BSCS')])\n",
      "name Suhaib\n",
      "fname Shaikh Mohsin\n",
      "education BSCS\n"
     ]
    }
   ],
   "source": [
    "data : Dict[key,value] = {\"name\":\"Suhaib\",\n",
    "                          \"fname\":\"Shaikh Mohsin\",\n",
    "                          \"education\":\"BSCS\"}\n",
    "print(data.keys())#keys\n",
    "print(data.values())#values\n",
    "print(data.items())#items\n",
    "#list of tuples\n",
    "\n",
    "for v in data.keys():\n",
    "    print(v, data[v])"
   ]
  },
  {
   "cell_type": "code",
   "execution_count": 54,
   "metadata": {},
   "outputs": [
    {
     "name": "stdout",
     "output_type": "stream",
     "text": [
      "key is : name\n",
      "value is : Suhaib\n",
      "key is : fname\n",
      "value is : Shaikh Mohsin\n",
      "key is : education\n",
      "value is : BSCS\n"
     ]
    }
   ],
   "source": [
    "data : Dict[key,value] = {\"name\":\"Suhaib\",\n",
    "                          \"fname\":\"Shaikh Mohsin\",\n",
    "                          \"education\":\"BSCS\"}\n",
    "for k,v in data.items():\n",
    "    print(\"key is :\",k)\n",
    "    print(\"value is :\",v)\n",
    "\n"
   ]
  },
  {
   "cell_type": "code",
   "execution_count": 57,
   "metadata": {},
   "outputs": [
    {
     "data": {
      "text/plain": [
       "{'Suhaib': 'name', 'Shaikh Mohsin': 'fname', 'BSCS': 'education'}"
      ]
     },
     "execution_count": 57,
     "metadata": {},
     "output_type": "execute_result"
    }
   ],
   "source": [
    "#dictionary comprehensive\n",
    "data : Dict[key,value] = {\"name\":\"Suhaib\",\n",
    "                          \"fname\":\"Shaikh Mohsin\",\n",
    "                          \"education\":\"BSCS\"}\n",
    "{k:v for k,v in data.items()}\n",
    "{v:k for k,v in data.items()}"
   ]
  },
  {
   "cell_type": "code",
   "execution_count": 58,
   "metadata": {},
   "outputs": [
    {
     "name": "stdout",
     "output_type": "stream",
     "text": [
      "9 7\n"
     ]
    }
   ],
   "source": [
    "#shuffling\n",
    "a: int = 7\n",
    "b: int = 9\n",
    "a,b = b,a\n",
    "print(a,b)"
   ]
  },
  {
   "cell_type": "code",
   "execution_count": 60,
   "metadata": {},
   "outputs": [
    {
     "name": "stdout",
     "output_type": "stream",
     "text": [
      "{}\n",
      "{'id': None, 'name': None, 'fname': None, 'course': None}\n"
     ]
    }
   ],
   "source": [
    "#fromkeys\n",
    "#in-line\n",
    "keys : list[str] = ['id','name','fname','course']\n",
    "data : dict[key, value] = {}\n",
    "print(data)\n",
    "data = data.fromkeys(keys)\n",
    "print(data)"
   ]
  }
 ],
 "metadata": {
  "kernelspec": {
   "display_name": "Python 3",
   "language": "python",
   "name": "python3"
  },
  "language_info": {
   "codemirror_mode": {
    "name": "ipython",
    "version": 3
   },
   "file_extension": ".py",
   "mimetype": "text/x-python",
   "name": "python",
   "nbconvert_exporter": "python",
   "pygments_lexer": "ipython3",
   "version": "3.12.2"
  }
 },
 "nbformat": 4,
 "nbformat_minor": 2
}
