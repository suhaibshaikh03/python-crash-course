{
 "cells": [
  {
   "cell_type": "markdown",
   "metadata": {},
   "source": [
    "LIST\n",
    "* iteration operation with loop\n",
    "* apply any operation on an element\n",
    "\n"
   ]
  },
  {
   "cell_type": "code",
   "execution_count": 1,
   "metadata": {},
   "outputs": [
    {
     "name": "stdout",
     "output_type": "stream",
     "text": [
      "['Suhaib', 'Ali', 'Ahmed']\n"
     ]
    }
   ],
   "source": [
    "names: list[str] = ['Suhaib','Ali','Ahmed']\n",
    "print(names)"
   ]
  },
  {
   "cell_type": "code",
   "execution_count": 2,
   "metadata": {},
   "outputs": [
    {
     "name": "stdout",
     "output_type": "stream",
     "text": [
      "Suhaib\n",
      "Ali\n",
      "Ahmed\n"
     ]
    }
   ],
   "source": [
    "names: list[str] = ['Suhaib','Ali','Ahmed']\n",
    "#iterations using for loop\n",
    "for name in names:\n",
    "    print(name)"
   ]
  },
  {
   "cell_type": "code",
   "execution_count": 4,
   "metadata": {},
   "outputs": [
    {
     "name": "stdout",
     "output_type": "stream",
     "text": [
      "Suhaib\n",
      "hello\n",
      "\n",
      "Ali\n",
      "hello\n",
      "\n",
      "Ahmed\n",
      "hello\n",
      "\n"
     ]
    }
   ],
   "source": [
    "names: list[str] = ['Suhaib','Ali','Ahmed']\n",
    "#indentation shows that the code is part of loop\n",
    "for name in names:\n",
    "    print(name)\n",
    "    print(\"hello\\n\") # part of loop because written with indentation\n"
   ]
  },
  {
   "cell_type": "code",
   "execution_count": 10,
   "metadata": {},
   "outputs": [
    {
     "name": "stdout",
     "output_type": "stream",
     "text": [
      "Suhaib\n",
      "hello\n",
      "\n",
      "Ali\n",
      "hello\n",
      "\n",
      "Ahmed\n",
      "hello\n",
      "\n",
      "pakistan zindabad\n"
     ]
    }
   ],
   "source": [
    "nameames: list[str] = ['Suhaib','Ali','Ahmed']\n",
    "#indentation shows that the code is part of loop\n",
    "for name in names:\n",
    "    print(name)\n",
    "    print(\"hello\\n\")\n",
    "\n",
    "print(\"pakistan zindabad\")#not part of loop because no indentation given\n",
    "#this will print once\n"
   ]
  },
  {
   "cell_type": "code",
   "execution_count": 9,
   "metadata": {},
   "outputs": [
    {
     "name": "stdout",
     "output_type": "stream",
     "text": [
      "Welcome dear Suhaib\n",
      "Python developer\n",
      "\n",
      "Welcome dear Ali\n",
      "Python developer\n",
      "\n",
      "Welcome dear Ahmed\n",
      "Python developer\n",
      "\n"
     ]
    }
   ],
   "source": [
    "for name in names:\n",
    "    print(f'Welcome dear {name.title()}')\n",
    "    print(\"Python developer\\n\")"
   ]
  },
  {
   "cell_type": "code",
   "execution_count": 12,
   "metadata": {},
   "outputs": [
    {
     "name": "stdout",
     "output_type": "stream",
     "text": [
      "Ahmed\n",
      "hello\n",
      "\n",
      "Ali\n",
      "hello\n",
      "\n",
      "Suhaib\n",
      "hello\n",
      "\n",
      "pakistan zindabad\n"
     ]
    }
   ],
   "source": [
    "names: list[str] = ['Suhaib','Ali','Ahmed']\n",
    "for name in names[::-1]:#will traverse in reverse order\n",
    "    print(name)\n",
    "    print(\"hello\\n\")\n",
    "\n",
    "print(\"pakistan zindabad\")\n"
   ]
  },
  {
   "cell_type": "code",
   "execution_count": 13,
   "metadata": {},
   "outputs": [
    {
     "name": "stdout",
     "output_type": "stream",
     "text": [
      "Ali\n",
      "hello\n",
      "\n",
      "Ahmed\n",
      "hello\n",
      "\n",
      "pakistan zindabad\n"
     ]
    }
   ],
   "source": [
    "names: list[str] = ['Suhaib','Ali','Ahmed']\n",
    "#can use slicing if we do not want to traverse all elements in the list\n",
    "for name in names[1::]:\n",
    "    print(name)\n",
    "    print(\"hello\\n\")\n",
    "\n",
    "print(\"pakistan zindabad\")\n"
   ]
  },
  {
   "cell_type": "code",
   "execution_count": 19,
   "metadata": {},
   "outputs": [
    {
     "name": "stdout",
     "output_type": "stream",
     "text": [
      "Qasim 123\n",
      "Sir Zia 234\n"
     ]
    }
   ],
   "source": [
    "from typing import Tuple\n",
    "data_base : list[tuple[str,str]] = [(\"Qasim\",'123'),(\"Sir Zia\",'234')]\n",
    "\n",
    "for row in data_base:\n",
    "    user,password = row\n",
    "    print(user, password)# unzipping concept\n"
   ]
  },
  {
   "cell_type": "markdown",
   "metadata": {},
   "source": [
    "for-else can be used in python\n",
    "when all iterations are done but still not so else block will run"
   ]
  },
  {
   "cell_type": "code",
   "execution_count": 21,
   "metadata": {},
   "outputs": [
    {
     "name": "stdout",
     "output_type": "stream",
     "text": [
      "valid user\n"
     ]
    }
   ],
   "source": [
    "#simple authentication system\n",
    "from typing import Tuple\n",
    "data_base : list[tuple[str,str]] = [(\"Qasim\",'123'),(\"Sir Zia\",'234')]\n",
    "\n",
    "input_user : str = input(\"Enter username\")\n",
    "input_password : str = input(\"Enter password\")\n",
    "for row in data_base:\n",
    "    user,password = row\n",
    "    if input_user == user and input_password == password:\n",
    "         print(\"valid user\")\n",
    "         break\n",
    "\n",
    "else:#if all iterations of for loop are performed then this else block of for loop will run\n",
    "     print(\"not found or invalid username\")\n"
   ]
  },
  {
   "cell_type": "code",
   "execution_count": 22,
   "metadata": {},
   "outputs": [
    {
     "name": "stdout",
     "output_type": "stream",
     "text": [
      "Suhaib\n",
      "Ali\n",
      "Ahmed\n",
      "Hello world\n"
     ]
    }
   ],
   "source": [
    "names: list[str] = ['Suhaib','Ali','Ahmed']\n",
    "for name in names:\n",
    "    print(name)\n",
    "#we go in else block whe all iterations perform\n",
    "else:\n",
    "    print(\"Hello world\")"
   ]
  },
  {
   "cell_type": "code",
   "execution_count": 23,
   "metadata": {},
   "outputs": [
    {
     "name": "stdout",
     "output_type": "stream",
     "text": [
      "Suhaib\n",
      "Ali\n",
      "Ahmed\n",
      "Hello world\n"
     ]
    }
   ],
   "source": [
    "names: list[str] = ['Suhaib','Ali','Ahmed']\n",
    "for name in names:\n",
    "    print(name)\n",
    "\n",
    "print(\"Hello world\")"
   ]
  },
  {
   "cell_type": "code",
   "execution_count": 24,
   "metadata": {},
   "outputs": [
    {
     "name": "stdout",
     "output_type": "stream",
     "text": [
      "Suhaib\n"
     ]
    }
   ],
   "source": [
    "names: list[str] = ['Suhaib','Ali','Ahmed']\n",
    "#will give error if we do not give indentaion and also if no colon\n",
    "for name in names:\n",
    "    print(name)\n",
    "    break #now else block will not run \n",
    "else:\n",
    "    print(\"Hello world\")"
   ]
  },
  {
   "cell_type": "code",
   "execution_count": 25,
   "metadata": {},
   "outputs": [
    {
     "name": "stdout",
     "output_type": "stream",
     "text": [
      "Alice, that was a great trick\n",
      "David, that was a great trick\n",
      "Carolina, that was a great trick\n",
      "I can't wait to see your next trick, Carolina.\n",
      " \n"
     ]
    }
   ],
   "source": [
    "magicians : list[str] = ['alice','david','carolina']\n",
    "for magician in magicians:\n",
    "    print(f\"{magician.title()}, that was a great trick\")\n",
    "#local variable can be accessed outside the body(last value that it contained)\n",
    "print(f\"I can't wait to see your next trick, {magician.title()}.\\n \")\n",
    "\n"
   ]
  },
  {
   "cell_type": "code",
   "execution_count": 26,
   "metadata": {},
   "outputs": [
    {
     "ename": "IndentationError",
     "evalue": "unexpected indent (3130555772.py, line 2)",
     "output_type": "error",
     "traceback": [
      "\u001b[1;36m  Cell \u001b[1;32mIn[26], line 2\u001b[1;36m\u001b[0m\n\u001b[1;33m    print(message)\u001b[0m\n\u001b[1;37m    ^\u001b[0m\n\u001b[1;31mIndentationError\u001b[0m\u001b[1;31m:\u001b[0m unexpected indent\n"
     ]
    }
   ],
   "source": [
    "message = \"Hello python world\"\n",
    "   print(message)\n",
    "#unnessesary indentaion gives error"
   ]
  },
  {
   "cell_type": "markdown",
   "metadata": {},
   "source": [
    "numbers with loop\n",
    "* range(start,end,step)"
   ]
  },
  {
   "cell_type": "code",
   "execution_count": 28,
   "metadata": {},
   "outputs": [
    {
     "data": {
      "text/plain": [
       "range(0, 10)"
      ]
     },
     "execution_count": 28,
     "metadata": {},
     "output_type": "execute_result"
    }
   ],
   "source": [
    "#generator function does not run itself,we have to perform iteration\n",
    "range(10)"
   ]
  },
  {
   "cell_type": "code",
   "execution_count": 30,
   "metadata": {},
   "outputs": [
    {
     "data": {
      "text/plain": [
       "[2, 3, 4, 5, 6, 7, 8, 9]"
      ]
     },
     "execution_count": 30,
     "metadata": {},
     "output_type": "execute_result"
    }
   ],
   "source": [
    "list(range(10))#starting 0 ,ending = n-1\n",
    "#if we pass only one number it will take 2 nd position\n"
   ]
  },
  {
   "cell_type": "code",
   "execution_count": 31,
   "metadata": {},
   "outputs": [
    {
     "data": {
      "text/plain": [
       "[2, 3, 4, 5, 6, 7, 8, 9]"
      ]
     },
     "execution_count": 31,
     "metadata": {},
     "output_type": "execute_result"
    }
   ],
   "source": [
    "list(range(2,10))#2 is inclusive and 10 is exclusive"
   ]
  },
  {
   "cell_type": "code",
   "execution_count": 32,
   "metadata": {},
   "outputs": [
    {
     "data": {
      "text/plain": [
       "[2, 4, 6, 8, 10, 12, 14, 16, 18, 20]"
      ]
     },
     "execution_count": 32,
     "metadata": {},
     "output_type": "execute_result"
    }
   ],
   "source": [
    "list(range(2,21,2))"
   ]
  },
  {
   "cell_type": "code",
   "execution_count": 33,
   "metadata": {},
   "outputs": [
    {
     "name": "stdout",
     "output_type": "stream",
     "text": [
      "2\n",
      "4\n",
      "6\n",
      "8\n",
      "10\n",
      "12\n",
      "14\n",
      "16\n",
      "18\n",
      "20\n"
     ]
    }
   ],
   "source": [
    "for n in range(2,21,2):#no need of list because loop itself is performing iteration\n",
    "     print(n)"
   ]
  },
  {
   "cell_type": "code",
   "execution_count": 34,
   "metadata": {},
   "outputs": [
    {
     "data": {
      "text/plain": [
       "[(0, 'alice'), (1, 'david'), (2, 'carolina')]"
      ]
     },
     "execution_count": 34,
     "metadata": {},
     "output_type": "execute_result"
    }
   ],
   "source": [
    "#enumerate\n",
    "#               0      1        2\n",
    "magicians = ['alice','david','carolina']\n",
    "list(enumerate(magicians))\n",
    "#adds every element's index number\n",
    "#returns tuple"
   ]
  },
  {
   "cell_type": "code",
   "execution_count": 35,
   "metadata": {},
   "outputs": [
    {
     "name": "stdout",
     "output_type": "stream",
     "text": [
      "0 alice\n",
      "1 david\n",
      "2 carolina\n"
     ]
    }
   ],
   "source": [
    "#               0      1        2\n",
    "magicians = ['alice','david','carolina']\n",
    "for index,name in enumerate(magicians):\n",
    "    print(index,name)\n"
   ]
  },
  {
   "cell_type": "code",
   "execution_count": 36,
   "metadata": {},
   "outputs": [
    {
     "name": "stdout",
     "output_type": "stream",
     "text": [
      "2\n",
      "4\n",
      "6\n",
      "8\n",
      "10\n"
     ]
    }
   ],
   "source": [
    "#2's table\n",
    "for n in range(2,11,2):\n",
    "    print(n)"
   ]
  },
  {
   "cell_type": "code",
   "execution_count": 37,
   "metadata": {},
   "outputs": [
    {
     "name": "stdout",
     "output_type": "stream",
     "text": [
      "2 X 1 = 2\n",
      "2 X 2 = 4\n",
      "2 X 3 = 6\n",
      "2 X 4 = 8\n",
      "2 X 5 = 10\n",
      "2 X 6 = 12\n",
      "2 X 7 = 14\n",
      "2 X 8 = 16\n",
      "2 X 9 = 18\n",
      "2 X 10 = 20\n"
     ]
    }
   ],
   "source": [
    "#2's table\n",
    "for n in range(1,11):\n",
    "    print(f\"{2} X {n} = {n*2}\")\n",
    "    "
   ]
  },
  {
   "cell_type": "code",
   "execution_count": 38,
   "metadata": {},
   "outputs": [
    {
     "name": "stdout",
     "output_type": "stream",
     "text": [
      "[1, 4, 9, 16, 25, 36, 49, 64, 81, 100]\n"
     ]
    }
   ],
   "source": [
    "squares : list[int] = []\n",
    "for value in range(1,11):\n",
    "    square = value**2\n",
    "    squares.append(square)\n",
    "print(squares)    "
   ]
  },
  {
   "cell_type": "markdown",
   "metadata": {},
   "source": [
    "List Comprehensive"
   ]
  },
  {
   "cell_type": "code",
   "execution_count": null,
   "metadata": {},
   "outputs": [],
   "source": [
    "#for items in item_list\n",
    "      #loop body\n",
    "\n",
    "#COMPREHENSIVE STYLE\n",
    " #[loop body for item in item_list]"
   ]
  },
  {
   "cell_type": "code",
   "execution_count": 39,
   "metadata": {},
   "outputs": [
    {
     "data": {
      "text/plain": [
       "[1, 2, 3, 4, 5, 6, 7, 8, 9, 10]"
      ]
     },
     "execution_count": 39,
     "metadata": {},
     "output_type": "execute_result"
    }
   ],
   "source": [
    "list(range(1,11))\n"
   ]
  },
  {
   "cell_type": "code",
   "execution_count": 41,
   "metadata": {},
   "outputs": [
    {
     "name": "stdout",
     "output_type": "stream",
     "text": [
      "1\n",
      "4\n",
      "9\n",
      "16\n",
      "25\n",
      "36\n",
      "49\n",
      "64\n",
      "81\n",
      "100\n"
     ]
    },
    {
     "data": {
      "text/plain": [
       "[1, 4, 9, 16, 25, 36, 49, 64, 81, 100]"
      ]
     },
     "execution_count": 41,
     "metadata": {},
     "output_type": "execute_result"
    }
   ],
   "source": [
    "for i in range(1,11):\n",
    "   print(i**2)\n",
    "\n",
    "#comprehensive style : all in one line\n",
    "[i**2 for i in range(1,11)]\n",
    "\n",
    "\n"
   ]
  },
  {
   "cell_type": "code",
   "execution_count": 43,
   "metadata": {},
   "outputs": [
    {
     "name": "stdout",
     "output_type": "stream",
     "text": [
      "1\n",
      "9\n",
      "45\n"
     ]
    }
   ],
   "source": [
    "digits: list[int] = [1,2,3,4,5,6,7,8,9]\n",
    "print(min(digits))#lowest value\n",
    "print(max(digits))#highest value\n",
    "print(sum(digits))#sum of all elements in the list"
   ]
  },
  {
   "cell_type": "code",
   "execution_count": 49,
   "metadata": {},
   "outputs": [
    {
     "name": "stdout",
     "output_type": "stream",
     "text": [
      "['pizza', 'falafel', 'carrot cake']\n",
      "['pizza', 'falafel', 'carrot cake']\n",
      "['pizza', 'falafel', 'carrot cake']\n",
      "['Tikka', 'falafel', 'carrot cake']\n"
     ]
    }
   ],
   "source": [
    "my_foods = ['pizza','falafel','carrot cake']\n",
    "friend_foods = my_foods[:] # deep copy when we add slicing\n",
    "\n",
    "print(my_foods)\n",
    "print(friend_foods)\n",
    "\n",
    "friend_foods[0] = 'Tikka'\n",
    "\n",
    "print(my_foods)\n",
    "print(friend_foods)\n"
   ]
  },
  {
   "cell_type": "markdown",
   "metadata": {},
   "source": [
    "TUPLES\n",
    "* constant- cannot change\n",
    "* immutable- cannot append or update\n"
   ]
  },
  {
   "cell_type": "code",
   "execution_count": 51,
   "metadata": {},
   "outputs": [
    {
     "name": "stdout",
     "output_type": "stream",
     "text": [
      "a\n",
      "('a', 'b')\n"
     ]
    }
   ],
   "source": [
    "names:tuple[str]=(\"a\",'b','c')\n",
    "print(names[0])\n",
    "print(names[0:2])\n"
   ]
  },
  {
   "cell_type": "code",
   "execution_count": 52,
   "metadata": {},
   "outputs": [
    {
     "name": "stdout",
     "output_type": "stream",
     "text": [
      "a\n",
      "('a', 'b')\n"
     ]
    },
    {
     "ename": "TypeError",
     "evalue": "'str' object does not support item assignment",
     "output_type": "error",
     "traceback": [
      "\u001b[1;31m---------------------------------------------------------------------------\u001b[0m",
      "\u001b[1;31mTypeError\u001b[0m                                 Traceback (most recent call last)",
      "Cell \u001b[1;32mIn[52], line 4\u001b[0m\n\u001b[0;32m      2\u001b[0m \u001b[38;5;28mprint\u001b[39m(names[\u001b[38;5;241m0\u001b[39m])\n\u001b[0;32m      3\u001b[0m \u001b[38;5;28mprint\u001b[39m(names[\u001b[38;5;241m0\u001b[39m:\u001b[38;5;241m2\u001b[39m])\n\u001b[1;32m----> 4\u001b[0m \u001b[43mname\u001b[49m\u001b[43m[\u001b[49m\u001b[38;5;241;43m0\u001b[39;49m\u001b[43m]\u001b[49m \u001b[38;5;241m=\u001b[39m \u001b[38;5;124m\"\u001b[39m\u001b[38;5;124mpakistan\u001b[39m\u001b[38;5;124m\"\u001b[39m\n",
      "\u001b[1;31mTypeError\u001b[0m: 'str' object does not support item assignment"
     ]
    }
   ],
   "source": [
    "names:tuple[str]=(\"a\",'b','c')\n",
    "print(names[0])\n",
    "print(names[0:2])\n",
    "name[0] = \"pakistan\"#error because tuple cannot update"
   ]
  },
  {
   "cell_type": "code",
   "execution_count": 55,
   "metadata": {},
   "outputs": [
    {
     "name": "stdout",
     "output_type": "stream",
     "text": [
      "('a', 'b', 'c')\n",
      "('pakistan', 'b', 'c')\n"
     ]
    }
   ],
   "source": [
    "names:tuple[str]=(\"a\",'b','c')\n",
    "print(names)\n",
    "names:tuple[str] = (\"pakistan\",\"b\",'c')\n",
    "print(names)\n",
    "#can re assign value"
   ]
  },
  {
   "cell_type": "code",
   "execution_count": 56,
   "metadata": {},
   "outputs": [
    {
     "name": "stdout",
     "output_type": "stream",
     "text": [
      "('A', [1, 2, 3], True)\n"
     ]
    }
   ],
   "source": [
    "from typing import Any\n",
    "data:tuple[Any] = (\"A\",[1,2,3],True)\n",
    "print(data)"
   ]
  },
  {
   "cell_type": "code",
   "execution_count": 58,
   "metadata": {},
   "outputs": [
    {
     "ename": "TypeError",
     "evalue": "'tuple' object does not support item assignment",
     "output_type": "error",
     "traceback": [
      "\u001b[1;31m---------------------------------------------------------------------------\u001b[0m",
      "\u001b[1;31mTypeError\u001b[0m                                 Traceback (most recent call last)",
      "Cell \u001b[1;32mIn[58], line 2\u001b[0m\n\u001b[0;32m      1\u001b[0m data:\u001b[38;5;28mtuple\u001b[39m[Any] \u001b[38;5;241m=\u001b[39m (\u001b[38;5;124m\"\u001b[39m\u001b[38;5;124mA\u001b[39m\u001b[38;5;124m\"\u001b[39m,[\u001b[38;5;241m1\u001b[39m,\u001b[38;5;241m2\u001b[39m,\u001b[38;5;241m3\u001b[39m],\u001b[38;5;28;01mTrue\u001b[39;00m)\n\u001b[1;32m----> 2\u001b[0m \u001b[43mdata\u001b[49m\u001b[43m[\u001b[49m\u001b[38;5;241;43m1\u001b[39;49m\u001b[43m]\u001b[49m \u001b[38;5;241m=\u001b[39m\u001b[38;5;124m\"\u001b[39m\u001b[38;5;124mb\u001b[39m\u001b[38;5;124m\"\u001b[39m \u001b[38;5;66;03m#error\u001b[39;00m\n\u001b[0;32m      3\u001b[0m \u001b[38;5;28mprint\u001b[39m(data)\n",
      "\u001b[1;31mTypeError\u001b[0m: 'tuple' object does not support item assignment"
     ]
    }
   ],
   "source": [
    "data:tuple[Any] = (\"A\",[1,2,3],True)\n",
    "data[1] =\"b\" #error\n",
    "print(data)"
   ]
  },
  {
   "cell_type": "code",
   "execution_count": 62,
   "metadata": {},
   "outputs": [
    {
     "name": "stdout",
     "output_type": "stream",
     "text": [
      "('A', [1, 2, 3], True)\n",
      "('A', [1, 2, 3, 20], True)\n"
     ]
    }
   ],
   "source": [
    "data:tuple[Any] = (\"A\",[1,2,3],True)\n",
    "print(data)\n",
    "data[1].append(20) #we can update the object\n",
    "print(data)"
   ]
  }
 ],
 "metadata": {
  "kernelspec": {
   "display_name": "pythonlatest",
   "language": "python",
   "name": "python3"
  },
  "language_info": {
   "codemirror_mode": {
    "name": "ipython",
    "version": 3
   },
   "file_extension": ".py",
   "mimetype": "text/x-python",
   "name": "python",
   "nbconvert_exporter": "python",
   "pygments_lexer": "ipython3",
   "version": "3.12.2"
  }
 },
 "nbformat": 4,
 "nbformat_minor": 2
}
