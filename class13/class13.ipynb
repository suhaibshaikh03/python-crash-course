{
 "cells": [
  {
   "cell_type": "markdown",
   "metadata": {},
   "source": [
    "# OOP in Python\n",
    "* Class\n",
    "    * method\n",
    "        * first argument must be additional variable(self,this,or anything)\n",
    "    * attributes\n",
    "        * connect with indivisual object\n",
    "    * class variables\n",
    "        * this value is used for all objects\n",
    "            * ClassName.class_variable\n",
    "        * class ClassName():\n",
    "            class_variable : type = value            \n",
    "    * constructor\n",
    "        * def '__init__(self,arg1, arg2)'"
   ]
  },
  {
   "cell_type": "code",
   "execution_count": 1,
   "metadata": {},
   "outputs": [],
   "source": [
    "# class syntax\n",
    "# class ClassName():\n",
    "#      pass\n"
   ]
  },
  {
   "cell_type": "code",
   "execution_count": 3,
   "metadata": {},
   "outputs": [],
   "source": [
    "class Teacher():\n",
    "    def __init__(self,teacher_id : int, teacher_name : str) -> None: #method/constructor\n",
    "        self.name : str = teacher_name\n",
    "        self.teacher_id : int = teacher_id\n",
    "        self.organization_name = \"PIAIC\"\n",
    "\n",
    "    def speak(self, words:str)->None: # method\n",
    "        print(f\"{self.name} is speaking {words}\")\n",
    "\n",
    "    def teaching(self,subject : str)->None:\n",
    "        print(f\"{self.name} is teaching {subject}\")"
   ]
  },
  {
   "cell_type": "code",
   "execution_count": 8,
   "metadata": {},
   "outputs": [],
   "source": [
    "obj1 : Teacher = Teacher(123,\"Qasim\")\n",
    "obj2 : Teacher = Teacher(2,\"Sir Zia\")\n"
   ]
  },
  {
   "cell_type": "code",
   "execution_count": 12,
   "metadata": {},
   "outputs": [
    {
     "name": "stdout",
     "output_type": "stream",
     "text": [
      "Qasim\n",
      "Sir Zia\n",
      "123\n",
      "2\n",
      "PIAIC\n",
      "PIAIC\n"
     ]
    }
   ],
   "source": [
    "print(obj1.name)\n",
    "print(obj2.name)\n",
    "print(obj1.teacher_id)\n",
    "print(obj2.teacher_id)\n",
    "print(obj1.organization_name)\n",
    "print(obj1.organization_name)"
   ]
  },
  {
   "cell_type": "code",
   "execution_count": 11,
   "metadata": {},
   "outputs": [
    {
     "name": "stdout",
     "output_type": "stream",
     "text": [
      "Qasim is teaching Generative AI\n"
     ]
    }
   ],
   "source": [
    "obj1.teaching(\"Generative AI\")"
   ]
  },
  {
   "cell_type": "code",
   "execution_count": 13,
   "metadata": {},
   "outputs": [
    {
     "name": "stdout",
     "output_type": "stream",
     "text": [
      "Sir Zia is teaching Deep Learning\n"
     ]
    }
   ],
   "source": [
    "obj2.teaching(\"Deep Learning\")"
   ]
  },
  {
   "cell_type": "code",
   "execution_count": 5,
   "metadata": {},
   "outputs": [
    {
     "data": {
      "text/plain": [
       "['__class__',\n",
       " '__delattr__',\n",
       " '__dict__',\n",
       " '__dir__',\n",
       " '__doc__',\n",
       " '__eq__',\n",
       " '__format__',\n",
       " '__ge__',\n",
       " '__getattribute__',\n",
       " '__getstate__',\n",
       " '__gt__',\n",
       " '__hash__',\n",
       " '__init__',\n",
       " '__init_subclass__',\n",
       " '__le__',\n",
       " '__lt__',\n",
       " '__module__',\n",
       " '__ne__',\n",
       " '__new__',\n",
       " '__reduce__',\n",
       " '__reduce_ex__',\n",
       " '__repr__',\n",
       " '__setattr__',\n",
       " '__sizeof__',\n",
       " '__str__',\n",
       " '__subclasshook__',\n",
       " '__weakref__',\n",
       " 'name',\n",
       " 'organization_name',\n",
       " 'speak',\n",
       " 'teacher_id',\n",
       " 'teaching']"
      ]
     },
     "execution_count": 5,
     "metadata": {},
     "output_type": "execute_result"
    }
   ],
   "source": [
    "dir(obj1)"
   ]
  },
  {
   "cell_type": "code",
   "execution_count": 15,
   "metadata": {},
   "outputs": [],
   "source": [
    "class Teacher():\n",
    "    def __init__(this,teacher_id : int, teacher_name : str) -> None: #method/constructor\n",
    "        this.name : str = teacher_name\n",
    "        this.teacher_id : int = teacher_id\n",
    "        this.organization_name : str = \"PIAIC\"\n",
    "\n",
    "    def speak(this, words:str)->None: # method\n",
    "        print(f\"{this.name} is speaking {words}\")\n",
    "\n",
    "    def teaching(this,subject : str)->None:\n",
    "        print(f\"{this.name} is teaching {subject}\")\n",
    "\n",
    "obj1 : Teacher = Teacher(123,\"Qasim\") # initialize object -> calling constructor method\n",
    "# obj1 = object, instance of teacher class\n",
    "obj2 : Teacher = Teacher(2,\"Sir Zia\")\n"
   ]
  },
  {
   "cell_type": "markdown",
   "metadata": {},
   "source": [
    "## class variable\n",
    "\n",
    "* this value is used for all objects\n",
    "            * ClassName.class_variable\n",
    "            * object_name.class_variable\n",
    "\n",
    "\n",
    "\n",
    "        * class ClassName():\n",
    "            class_variable : type = value    "
   ]
  },
  {
   "cell_type": "code",
   "execution_count": 27,
   "metadata": {},
   "outputs": [
    {
     "name": "stdout",
     "output_type": "stream",
     "text": [
      "1\n",
      "2\n"
     ]
    }
   ],
   "source": [
    "class Teacher():\n",
    "    counter : int = 0 # class variable 1\n",
    "    help_line_number : str = \"0315-2968211\" # class variable 2\n",
    "    def __init__(self,teacher_id : int, teacher_name : str) -> None: #method/constructor\n",
    "        self.name : str = teacher_name\n",
    "        self.teacher_id : int = teacher_id\n",
    "        self.organization_name = \"PIAIC\"\n",
    "        Teacher.counter+=1\n",
    "\n",
    "    def speak(self, words:str)->None: # method\n",
    "        print(f\"{self.name} is speaking {words}\")\n",
    "\n",
    "    def teaching(self,subject : str)->None:\n",
    "        print(f\"{self.name} is teaching {subject}\")\n",
    "\n",
    "    def detail(self)->None:\n",
    "        information : str = f\"\"\"\n",
    "        Teacher name is {self.name}\n",
    "        our helpline number is {Teacher.help_line_number}\n",
    "\n",
    "        \"\"\"\n",
    "        print(information)\n",
    "obj1 : Teacher = Teacher(123,\"Qasim\")\n",
    "print(Teacher.counter)\n",
    "obj2 : Teacher = Teacher(2,\"Sir Zia\")\n",
    "print(Teacher.counter)"
   ]
  },
  {
   "cell_type": "code",
   "execution_count": 19,
   "metadata": {},
   "outputs": [
    {
     "name": "stdout",
     "output_type": "stream",
     "text": [
      "0\n",
      "0\n",
      "0\n",
      "0315-2968211\n",
      "0315-2968211\n",
      "0315-2968211\n"
     ]
    }
   ],
   "source": [
    "print(obj1.counter)\n",
    "print(obj2.counter)\n",
    "print(Teacher.counter)\n",
    "\n",
    "print(obj1.help_line_number)\n",
    "print(obj2.help_line_number)\n",
    "print(Teacher.help_line_number)\n",
    "\n"
   ]
  },
  {
   "cell_type": "code",
   "execution_count": 25,
   "metadata": {},
   "outputs": [
    {
     "name": "stdout",
     "output_type": "stream",
     "text": [
      "\n",
      "        Teacher name is Qasim\n",
      "        our helpline number is 0315-2968211\n",
      "\n",
      "        \n"
     ]
    }
   ],
   "source": [
    "obj1.detail()"
   ]
  },
  {
   "cell_type": "markdown",
   "metadata": {},
   "source": [
    "# Inheritance"
   ]
  },
  {
   "cell_type": "code",
   "execution_count": 30,
   "metadata": {},
   "outputs": [
    {
     "name": "stdout",
     "output_type": "stream",
     "text": [
      "Brown\n",
      "black\n",
      "Parent method speak : Pakistan zindabad\n",
      "You are looking TV\n",
      "---------Child object---------\n",
      "Brown\n",
      "black\n",
      "Parent method speak : hello world\n",
      "You are looking cinema\n"
     ]
    }
   ],
   "source": [
    "class Parents():\n",
    "    def __init__(self)->None:\n",
    "        self.eye_color : str = \"Brown\"\n",
    "        self.hair_color : str = \"black\"\n",
    "\n",
    "    def speak(speak,words : str)->None:\n",
    "        print(f\"Parent method speak : {words}\")\n",
    "\n",
    "    def watching(self, object_name : str)->None:\n",
    "        print(f\"You are looking {object_name}\")\n",
    "\n",
    "class Child(Parents):\n",
    "    pass\n",
    "\n",
    "obj1 : Parents = Parents()\n",
    "print(obj1.eye_color)\n",
    "print(obj1.hair_color)\n",
    "obj1.speak(\"Pakistan zindabad\")\n",
    "obj1.watching(\"TV\")\n",
    "print(\"---------Child object---------\")\n",
    "## Child object\n",
    "\n",
    "obj2 : Child = Child()\n",
    "print(obj2.eye_color)\n",
    "print(obj2.hair_color)\n",
    "obj2.speak(\"hello world\")\n",
    "obj2.watching(\"cinema\")\n",
    "\n",
    "\n"
   ]
  },
  {
   "cell_type": "code",
   "execution_count": 31,
   "metadata": {},
   "outputs": [
    {
     "name": "stdout",
     "output_type": "stream",
     "text": [
      "Brown\n",
      "black\n",
      "Parent method speak : Pakistan zindabad\n",
      "You are looking TV\n",
      "---------Child object---------\n",
      "Brown\n",
      "black\n",
      "Parent method speak : hello world\n",
      "You are looking cinema\n",
      "Child method for teaching : Generative AI\n"
     ]
    }
   ],
   "source": [
    "class Parents():\n",
    "    def __init__(self)->None:\n",
    "        self.eye_color : str = \"Brown\"\n",
    "        self.hair_color : str = \"black\"\n",
    "\n",
    "    def speak(speak,words : str)->None:\n",
    "        print(f\"Parent method speak : {words}\")\n",
    "\n",
    "    def watching(self, object_name : str)->None:\n",
    "        print(f\"You are looking {object_name}\")\n",
    "\n",
    "class Child(Parents):\n",
    "    def  teaching(self,subject:str)->None:\n",
    "        print(f\"Child method for teaching : {subject}\")\n",
    "\n",
    "\n",
    "\n",
    "obj1 : Parents = Parents()\n",
    "print(obj1.eye_color)\n",
    "print(obj1.hair_color)\n",
    "obj1.speak(\"Pakistan zindabad\")\n",
    "obj1.watching(\"TV\")\n",
    "print(\"---------Child object---------\")\n",
    "## Child object\n",
    "\n",
    "obj2 : Child = Child()\n",
    "print(obj2.eye_color)\n",
    "print(obj2.hair_color)\n",
    "obj2.speak(\"hello world\")\n",
    "obj2.watching(\"cinema\")\n",
    "obj2.teaching(\"Generative AI\")\n",
    "\n",
    "\n"
   ]
  },
  {
   "cell_type": "markdown",
   "metadata": {},
   "source": [
    "# super"
   ]
  },
  {
   "cell_type": "code",
   "execution_count": 36,
   "metadata": {},
   "outputs": [
    {
     "name": "stdout",
     "output_type": "stream",
     "text": [
      "animation Artist\n",
      "Asif khan\n",
      "['python']\n"
     ]
    }
   ],
   "source": [
    "from typing import List\n",
    "class Employee():\n",
    "    def __init__(self,name:str) -> None:\n",
    "        self.name : str = name\n",
    "        self.education : str = \"\"\n",
    "        self.department : str = \"\"\n",
    "\n",
    "class Designer(Employee):\n",
    "    def __init__(self,title : str,name : str) -> None:\n",
    "        super().__init__(name)\n",
    "        self.title : str = title\n",
    "\n",
    "class Developer(Employee):\n",
    "    def __init__(self,title : str,name : str) -> None:\n",
    "        super().__init__(name)\n",
    "        self.title : str = title\n",
    "        self.programming_skills : List[str] = [\"python\"]\n",
    "\n",
    "\n",
    "designer1 : Designer = Designer(\"animation Artist\",\"Asif khan\")\n",
    "dev1 : Developer = Developer(\"GenAI Engineer\",\"Isfahan\")\n",
    "\n",
    "print(designer1.title)\n",
    "print(designer1.name)\n",
    "print(dev1.programming_skills)\n",
    "\n",
    "\n",
    "\n"
   ]
  }
 ],
 "metadata": {
  "kernelspec": {
   "display_name": "Python 3",
   "language": "python",
   "name": "python3"
  },
  "language_info": {
   "codemirror_mode": {
    "name": "ipython",
    "version": 3
   },
   "file_extension": ".py",
   "mimetype": "text/x-python",
   "name": "python",
   "nbconvert_exporter": "python",
   "pygments_lexer": "ipython3",
   "version": "3.12.3"
  }
 },
 "nbformat": 4,
 "nbformat_minor": 2
}
