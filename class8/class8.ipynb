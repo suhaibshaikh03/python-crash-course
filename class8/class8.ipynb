{
 "cells": [
  {
   "cell_type": "markdown",
   "metadata": {},
   "source": [
    "Dictionary Methods"
   ]
  },
  {
   "cell_type": "code",
   "execution_count": 3,
   "metadata": {},
   "outputs": [
    {
     "name": "stdout",
     "output_type": "stream",
     "text": [
      "['clear', 'copy', 'fromkeys', 'get', 'items', 'keys', 'pop', 'popitem', 'setdefault', 'update', 'values']\n"
     ]
    }
   ],
   "source": [
    "from typing import Dict, Union, Optional\n",
    "import pprint\n",
    "\n",
    "key = Union[int, str]\n",
    "value = Union[int, str, list, dict, tuple, set]\n",
    "data : Dict[key, value] = {\n",
    "    \"fname\":\"Muhammad Aslam\",\n",
    "    \"name\":\"Muhammad Qasim\",\n",
    "    \"education\":\"MSDS\"\n",
    "}\n",
    "methods :list[str]=[m for m in dir(data) if \"__\" not in m]\n",
    "print(methods)"
   ]
  },
  {
   "cell_type": "code",
   "execution_count": 4,
   "metadata": {},
   "outputs": [
    {
     "name": "stdout",
     "output_type": "stream",
     "text": [
      "Before {'fname': 'Muhammad Aslam', 'name': 'Muhammad Qasim', 'education': 'MSDS'}\n",
      "After {}\n"
     ]
    }
   ],
   "source": [
    "#clear\n",
    "from typing import Dict, Union, Optional\n",
    "import pprint\n",
    "\n",
    "key = Union[int, str]\n",
    "value = Union[int, str, list, dict, tuple, set]\n",
    "data : Dict[key, value] = {\n",
    "    \"fname\":\"Muhammad Aslam\",\n",
    "    \"name\":\"Muhammad Qasim\",\n",
    "    \"education\":\"MSDS\"\n",
    "}\n",
    "print(\"Before\", data)\n",
    "data.clear()#all data is deleted but the dictionary 'data' remains\n",
    "print(\"After\",data)"
   ]
  },
  {
   "cell_type": "code",
   "execution_count": 5,
   "metadata": {},
   "outputs": [
    {
     "name": "stdout",
     "output_type": "stream",
     "text": [
      "before {'fname': 'Muhammad Aslam', 'name': 'Muhammad Qasim', 'education': 'MSDS'}\n"
     ]
    },
    {
     "ename": "NameError",
     "evalue": "name 'data' is not defined",
     "output_type": "error",
     "traceback": [
      "\u001b[1;31m---------------------------------------------------------------------------\u001b[0m",
      "\u001b[1;31mNameError\u001b[0m                                 Traceback (most recent call last)",
      "Cell \u001b[1;32mIn[5], line 13\u001b[0m\n\u001b[0;32m     11\u001b[0m \u001b[38;5;28mprint\u001b[39m(\u001b[38;5;124m\"\u001b[39m\u001b[38;5;124mbefore\u001b[39m\u001b[38;5;124m\"\u001b[39m, data)\n\u001b[0;32m     12\u001b[0m \u001b[38;5;28;01mdel\u001b[39;00m data\u001b[38;5;66;03m#deletes the data as well as deletes the dictionary 'data'\u001b[39;00m\n\u001b[1;32m---> 13\u001b[0m \u001b[38;5;28mprint\u001b[39m(\u001b[38;5;124m\"\u001b[39m\u001b[38;5;124mafter\u001b[39m\u001b[38;5;124m\"\u001b[39m, \u001b[43mdata\u001b[49m)\n",
      "\u001b[1;31mNameError\u001b[0m: name 'data' is not defined"
     ]
    }
   ],
   "source": [
    "from typing import Dict, Union, Optional\n",
    "import pprint\n",
    "\n",
    "key = Union[int, str]\n",
    "value = Union[int, str, list, dict, tuple, set]\n",
    "data : Dict[key, value] = {\n",
    "    \"fname\":\"Muhammad Aslam\",\n",
    "    \"name\":\"Muhammad Qasim\",\n",
    "    \"education\":\"MSDS\"\n",
    "}\n",
    "print(\"before\", data)\n",
    "del data#deletes the data as well as deletes the dictionary 'data'\n",
    "print(\"after\", data)#error because data does not exist now\n"
   ]
  },
  {
   "cell_type": "code",
   "execution_count": 6,
   "metadata": {},
   "outputs": [
    {
     "name": "stdout",
     "output_type": "stream",
     "text": [
      "before {'fname': 'Muhammad Aslam', 'name': 'Muhammad Qasim', 'education': 'MSDS'}\n",
      "after {'fname': 'Muhammad Aslam', 'name': 'Muhammad Qasim'}\n"
     ]
    }
   ],
   "source": [
    "#pop\n",
    "from typing import Dict, Union, Optional\n",
    "import pprint\n",
    "\n",
    "key = Union[int, str]\n",
    "value = Union[int, str, list, dict, tuple, set]\n",
    "data : Dict[key, value] = {\n",
    "    \"fname\":\"Muhammad Aslam\",\n",
    "    \"name\":\"Muhammad Qasim\",\n",
    "    \"education\":\"MSDS\"\n",
    "}\n",
    "print(\"before\", data)\n",
    "a:str = data.pop('education')\n",
    "print(\"after\", data)"
   ]
  },
  {
   "cell_type": "code",
   "execution_count": 7,
   "metadata": {},
   "outputs": [
    {
     "name": "stdout",
     "output_type": "stream",
     "text": [
      "before {'fname': 'Muhammad Aslam', 'name': 'Muhammad Qasim', 'education': 'MSDS'}\n",
      "after {'fname': 'Muhammad Aslam', 'name': 'Muhammad Qasim'}\n"
     ]
    }
   ],
   "source": [
    "#popitem\n",
    "from typing import Dict, Union, Optional\n",
    "import pprint\n",
    "\n",
    "key = Union[int, str]\n",
    "value = Union[int, str, list, dict, tuple, set]\n",
    "data : Dict[key, value] = {\n",
    "    \"fname\":\"Muhammad Aslam\",\n",
    "    \"name\":\"Muhammad Qasim\",\n",
    "    \"education\":\"MSDS\"\n",
    "}\n",
    "print(\"before\", data)\n",
    "a:str = data.popitem()#does not pass any value, removes last item \n",
    "print(\"after\", data)"
   ]
  },
  {
   "cell_type": "code",
   "execution_count": 9,
   "metadata": {},
   "outputs": [
    {
     "name": "stdout",
     "output_type": "stream",
     "text": [
      "before {'fname': 'Muhammad Aslam', 'name': 'Muhammad Qasim', 'education': 'MSDS'}\n",
      "after {'fname': 'Muhammad Aslam', 'name': 'Muhammad Qasim', 'education': 'MSDS', 'pakistan': 'Empty value'}\n"
     ]
    }
   ],
   "source": [
    "#setdefault\n",
    "\n",
    "from typing import Dict, Union, Optional\n",
    "import pprint\n",
    "\n",
    "key = Union[int, str]\n",
    "value = Union[int, str, list, dict, tuple, set]\n",
    "data : Dict[key, value] = {\n",
    "    \"fname\":\"Muhammad Aslam\",\n",
    "    \"name\":\"Muhammad Qasim\",\n",
    "    \"education\":\"MSDS\"\n",
    "}\n",
    "print(\"before\", data)\n",
    "a:str = data.setdefault('pakistan',\"Empty value\")#adds pakistan key if does not find pakistan key\n",
    "print(\"after\", data)"
   ]
  },
  {
   "cell_type": "code",
   "execution_count": 12,
   "metadata": {},
   "outputs": [
    {
     "name": "stdout",
     "output_type": "stream",
     "text": [
      "{'fname': 'Muhammad Aslam', 'name': 'M.Qasim', 'education': 'MSDS', 'age': 30, 'Height': '6 feet'}\n"
     ]
    }
   ],
   "source": [
    "#pop\n",
    "from typing import Dict, Union, Optional\n",
    "import pprint\n",
    "\n",
    "key = Union[int, str]\n",
    "value = Union[int, str, list, dict, tuple, set]\n",
    "data : Dict[key, value] = {\n",
    "    \"fname\":\"Muhammad Aslam\",\n",
    "    \"name\":\"Muhammad Qasim\",\n",
    "    \"education\":\"MSDS\"\n",
    "}\n",
    "data1 : Dict[key, value] = {\"name\":\"M.Qasim\",\n",
    "                           \"age\":30,\n",
    "                           \"Height\":\"6 feet\"}\n",
    "data.update(data1)#updates data, adds new key, value pair and updates\n",
    "print(data)"
   ]
  },
  {
   "cell_type": "code",
   "execution_count": null,
   "metadata": {},
   "outputs": [],
   "source": [
    "import pandas as pd\n",
    "from typing import Any\n",
    "students_data : Dict[str, list[Any]] = {\n",
    " \"roll no\":[1,2,3],\n",
    " \"Name\":[\"Sir Zia\",\"Sir Inam\",\"Muhammad Qasim\"],\n",
    " \"education\":[\"Masters\",\"Masters\",\"Masters\"]\n",
    "}\n",
    "df : pd.DataFrame = pd.dataFrame(students_data)"
   ]
  },
  {
   "cell_type": "markdown",
   "metadata": {},
   "source": [
    "large data is stored in JSONL format"
   ]
  },
  {
   "cell_type": "code",
   "execution_count": 3,
   "metadata": {},
   "outputs": [
    {
     "name": "stdout",
     "output_type": "stream",
     "text": [
      "Original position: 0\n",
      "new position of alien is 2\n"
     ]
    }
   ],
   "source": [
    "alien_0 = {'x_position':0, 'y_position':25,'speed':'medium'}\n",
    "print(f'Original position: {alien_0['x_position']}')\n",
    "#move alien to the right\n",
    "#determine how far to move the alien based on its current speed.\n",
    "if alien_0['speed'] == 'slow':\n",
    "    x_increment = 1\n",
    "elif alien_0['speed'] == 'medium':\n",
    "    x_increment = 2\n",
    "else:\n",
    "    #this must be a fast alien\n",
    "    x_increment = 3\n",
    "#the new position is the old position plus the increment\n",
    "alien_0['x_position'] += x_increment\n",
    "print(f\"new position of alien is {alien_0['x_position']}\")"
   ]
  },
  {
   "cell_type": "code",
   "execution_count": 6,
   "metadata": {},
   "outputs": [
    {
     "name": "stdout",
     "output_type": "stream",
     "text": [
      "{'fname': 'Muhammad Aslam', 'name': 'M.Qasim', 'education': 'MSDS'}\n"
     ]
    }
   ],
   "source": [
    "from typing import Dict, Union, Optional\n",
    "import pprint\n",
    "\n",
    "key = Union[int, str]\n",
    "value = Union[int, str, list, dict, tuple, set]\n",
    "data : Dict[key, value] = {\n",
    "    \"fname\":\"Muhammad Aslam\",\n",
    "    \"name\":\"Muhammad Qasim\",\n",
    "    \"education\":\"MSDS\",\n",
    "    \"name\":\"M.Qasim\"#latet value will be counted\n",
    "}\n",
    "print(data)"
   ]
  },
  {
   "cell_type": "code",
   "execution_count": 8,
   "metadata": {},
   "outputs": [
    {
     "data": {
      "text/plain": [
       "True"
      ]
     },
     "execution_count": 8,
     "metadata": {},
     "output_type": "execute_result"
    }
   ],
   "source": [
    "#by in operator we can search for a sub-string in a string\n",
    "\"Suhaib\" in \"Hi my name is Suhaib , I am a student at piaic\""
   ]
  },
  {
   "cell_type": "code",
   "execution_count": 9,
   "metadata": {},
   "outputs": [
    {
     "name": "stdout",
     "output_type": "stream",
     "text": [
      "{'fname': 'Muhammad Aslam', 'name': 'Muhammad Qasim', 'education': 'MSDS'}\n",
      "<class 'dict'>\n"
     ]
    }
   ],
   "source": [
    "#how to make json\n",
    "from typing import Dict, Union, Optional\n",
    "import pprint\n",
    "\n",
    "key = Union[int, str]\n",
    "value = Union[int, str, list, dict, tuple, set]\n",
    "data : Dict[key, value] = {\n",
    "    \"fname\":\"Muhammad Aslam\",\n",
    "    \"name\":\"Muhammad Qasim\",\n",
    "    \"education\":\"MSDS\"\n",
    "}\n",
    "print(data)\n",
    "print(type(data))"
   ]
  },
  {
   "cell_type": "code",
   "execution_count": 13,
   "metadata": {},
   "outputs": [
    {
     "name": "stdout",
     "output_type": "stream",
     "text": [
      "<class 'str'>\n"
     ]
    },
    {
     "data": {
      "text/plain": [
       "'{\\n    \"fname\": \"Muhammad Aslam\",\\n    \"name\": \"Muhammad Qasim\",\\n    \"education\": \"MSDS\"\\n}'"
      ]
     },
     "metadata": {},
     "output_type": "display_data"
    },
    {
     "name": "stdout",
     "output_type": "stream",
     "text": [
      "{\n",
      "    \"fname\": \"Muhammad Aslam\",\n",
      "    \"name\": \"Muhammad Qasim\",\n",
      "    \"education\": \"MSDS\"\n",
      "}\n"
     ]
    }
   ],
   "source": [
    "import json\n",
    "data1 = json.dumps(data, indent=4)\n",
    "print(type(data1))\n",
    "display(data1)\n",
    "print(data1)\n"
   ]
  }
 ],
 "metadata": {
  "kernelspec": {
   "display_name": "Python 3",
   "language": "python",
   "name": "python3"
  },
  "language_info": {
   "codemirror_mode": {
    "name": "ipython",
    "version": 3
   },
   "file_extension": ".py",
   "mimetype": "text/x-python",
   "name": "python",
   "nbconvert_exporter": "python",
   "pygments_lexer": "ipython3",
   "version": "3.12.2"
  }
 },
 "nbformat": 4,
 "nbformat_minor": 2
}
