{
 "cells": [
  {
   "cell_type": "markdown",
   "metadata": {},
   "source": [
    "Lists in python\n"
   ]
  },
  {
   "cell_type": "code",
   "execution_count": null,
   "metadata": {},
   "outputs": [],
   "source": [
    "#previous syntax\n",
    "names = [\"Qasim\",\"Suhaib\",\"Ali\"]"
   ]
  },
  {
   "cell_type": "code",
   "execution_count": null,
   "metadata": {},
   "outputs": [],
   "source": [
    "\n",
    "# list is dynamic in lenght\n",
    "# hetrogenous data types(multiple types)\n",
    "#indexing\n",
    "#    *positive 0 to n-1\n",
    "#    *negative -1 to length\n"
   ]
  },
  {
   "cell_type": "code",
   "execution_count": 3,
   "metadata": {},
   "outputs": [
    {
     "name": "stdout",
     "output_type": "stream",
     "text": [
      "Qasim\n",
      "Qasim\n",
      "Suhaib\n"
     ]
    }
   ],
   "source": [
    "#index      0       1       2\n",
    "names = [\"Qasim\",\"Suhaib\",\"Ali\"]\n",
    "#index     -3      -2      -1\n",
    "\n",
    "print(names[0])# value at 0 index\n",
    "print(names[-3])# same as above\n",
    "print(names[-2])\n",
    "\n",
    "#length - 1 = last index\n",
    "\n",
    "\n",
    "\n"
   ]
  },
  {
   "cell_type": "code",
   "execution_count": 6,
   "metadata": {},
   "outputs": [
    {
     "name": "stdout",
     "output_type": "stream",
     "text": [
      "Sir Zia\n",
      "Hello my name is Sir Zia\n",
      "<class 'list'>\n",
      "<class 'str'>\n"
     ]
    }
   ],
   "source": [
    "#new syntax of list\n",
    "from typing import Any\n",
    "\n",
    "#->                     0         1         2\n",
    "names : list[Any] = [\"Qasim\",\"Sir Zia\",\"Sir Inam\"]\n",
    "#<-                    -3        -2         -1\n",
    "print(names[-2])\n",
    "print(f\"Hello my name is {names[-2]}\")\n",
    "print(type(names))\n",
    "print(type(names[0]))"
   ]
  },
  {
   "cell_type": "code",
   "execution_count": 7,
   "metadata": {},
   "outputs": [
    {
     "name": "stdout",
     "output_type": "stream",
     "text": [
      "Sir Zia\n"
     ]
    }
   ],
   "source": [
    "#new syntax of list\n",
    "#static typing\n",
    "#->                     0         1         2\n",
    "names : list[str] = [\"Qasim\",\"Sir Zia\",\"Sir Inam\"]\n",
    "#<-                    -3        -2         -1\n",
    "print(names[-2])"
   ]
  },
  {
   "cell_type": "markdown",
   "metadata": {},
   "source": [
    "Slicing\n"
   ]
  },
  {
   "cell_type": "markdown",
   "metadata": {},
   "source": [
    "* variable names[start(inclusive):end(exclusive:step)]\n",
    "* start : int = include\n",
    "* end : int = n-1\n",
    "* step : int = sequence"
   ]
  },
  {
   "cell_type": "code",
   "execution_count": 8,
   "metadata": {},
   "outputs": [
    {
     "name": "stdout",
     "output_type": "stream",
     "text": [
      "['A', 'B', 'C', 'D', 'E', 'F', 'G', 'H', 'I', 'J', 'K', 'L', 'M', 'N', 'O', 'P', 'Q', 'R', 'S', 'T', 'U', 'V', 'W', 'X', 'Y', 'Z']\n"
     ]
    }
   ],
   "source": [
    "characters : list[str] = list(\"ABCDEFGHIJKLMNOPQRSTUVWXYZ\")\n",
    "#list is also a function\n",
    "print(characters)\n"
   ]
  },
  {
   "cell_type": "code",
   "execution_count": 17,
   "metadata": {},
   "outputs": [
    {
     "name": "stdout",
     "output_type": "stream",
     "text": [
      "['A', 'B']\n",
      "['A', 'B']\n",
      "['A', 'B']\n",
      "['A', 'B']\n",
      "<class 'list'>\n",
      "['A', 'C', 'E', 'G', 'I']\n"
     ]
    }
   ],
   "source": [
    "#indexing                  0    1    2    3    4    5    6    7    8    9\n",
    "characters : list[str] = ['A', 'B', 'C', 'D', 'E', 'F', 'G', 'H', 'I', 'J', 'K', 'L', 'M', 'N', 'O', 'P', 'Q', 'R', 'S', 'T', 'U', 'V', 'W', 'X', 'Y', 'Z']\n",
    "#                         -26                                                                                                                           -1\n",
    "\n",
    "#default slicing is from left to right\n",
    "print(characters[0:2])\n",
    "print(characters[:2])# blank means all values\n",
    "print(characters[0:2:1])\n",
    "print(characters[-26:-24])\n",
    "print(type(characters[0:2]))\n",
    "#default step value is 1\n",
    "print(characters[0:9:2])"
   ]
  },
  {
   "cell_type": "code",
   "execution_count": 19,
   "metadata": {},
   "outputs": [
    {
     "name": "stdout",
     "output_type": "stream",
     "text": [
      "['A', 'B', 'C', 'D', 'E', 'F', 'G', 'H', 'I', 'J', 'K', 'L', 'M', 'N', 'O', 'P', 'Q', 'R', 'S', 'T', 'U', 'V', 'W', 'X', 'Y', 'Z']\n",
      "['A', 'C', 'E', 'G', 'I', 'K', 'M', 'O', 'Q', 'S', 'U', 'W', 'Y']\n",
      "['Z', 'Y', 'X', 'W', 'V', 'U', 'T', 'S', 'R', 'Q', 'P', 'O', 'N', 'M', 'L', 'K', 'J', 'I', 'H', 'G', 'F', 'E', 'D', 'C', 'B', 'A']\n"
     ]
    }
   ],
   "source": [
    "characters : list[str] = ['A', 'B', 'C', 'D', 'E', 'F', 'G', 'H', 'I', 'J', 'K', 'L', 'M', 'N', 'O', 'P', 'Q', 'R', 'S', 'T', 'U', 'V', 'W', 'X', 'Y', 'Z']\n",
    "print(characters[::])\n",
    "print(characters[::2])\n",
    "print(characters[::-1])#reverse the order if we change to negative\n"
   ]
  },
  {
   "cell_type": "code",
   "execution_count": 24,
   "metadata": {},
   "outputs": [
    {
     "name": "stdout",
     "output_type": "stream",
     "text": [
      "['B', 'C', 'D', 'E']\n",
      "[]\n",
      "['H', 'G', 'F', 'E']\n"
     ]
    }
   ],
   "source": [
    "#                    0   1   2   3   4   5   6   7  \n",
    "characters :list = ['A','B','C','D','E','F','G','H']\n",
    "#                   -8  -7  -6  -5  -4  -3  -2  -1\n",
    "print(characters[1:-3]) # B -> E\n",
    "#->\n",
    "print(characters[-1:-5]) #nothing because from left to right\n",
    "\n",
    "print(characters[-1:-5:-1]) #ordered changed because of -1 now it will run\n",
    "\n",
    "\n"
   ]
  },
  {
   "cell_type": "markdown",
   "metadata": {},
   "source": [
    "LIST METHODS"
   ]
  },
  {
   "cell_type": "code",
   "execution_count": 28,
   "metadata": {},
   "outputs": [
    {
     "name": "stdout",
     "output_type": "stream",
     "text": [
      "['Suhaib', 'Qasim', 'Ahmed', 20, True]\n",
      "Suhaib\n",
      "['ali', 'Qasim', 'Ahmed', True]\n"
     ]
    }
   ],
   "source": [
    "from typing import Any\n",
    "names : list[Any] = [\"Suhaib\", \"Qasim\", \"Ahmed\",20,True]\n",
    "print(names)\n",
    "print(names[0])\n",
    "names[0] = \"ali\" #can update value by this method\n",
    "\n",
    "\n",
    "del names[3] #deletes value from 3rd index\n",
    "print(names) "
   ]
  },
  {
   "cell_type": "code",
   "execution_count": 30,
   "metadata": {},
   "outputs": [
    {
     "name": "stdout",
     "output_type": "stream",
     "text": [
      "pakistan\n",
      "None\n",
      "1742824559168\n"
     ]
    }
   ],
   "source": [
    "a: str = print(\"pakistan\")\n",
    "print(a)#print is a non-returning function\n",
    "\n",
    "b:str =id(names)\n",
    "print(b) #id function is returning function as it returns the address"
   ]
  },
  {
   "cell_type": "code",
   "execution_count": 31,
   "metadata": {},
   "outputs": [
    {
     "data": {
      "text/plain": [
       "['append',\n",
       " 'clear',\n",
       " 'copy',\n",
       " 'count',\n",
       " 'extend',\n",
       " 'index',\n",
       " 'insert',\n",
       " 'pop',\n",
       " 'remove',\n",
       " 'reverse',\n",
       " 'sort']"
      ]
     },
     "execution_count": 31,
     "metadata": {},
     "output_type": "execute_result"
    }
   ],
   "source": [
    "#list methods\n",
    "[i for i in dir(list) if\"__\" not in i]"
   ]
  },
  {
   "cell_type": "code",
   "execution_count": 32,
   "metadata": {},
   "outputs": [
    {
     "name": "stdout",
     "output_type": "stream",
     "text": [
      "['suhaib', 'qasim', 'ali']\n",
      "['suhaib', 'qasim', 'ali', 'Hameed']\n"
     ]
    }
   ],
   "source": [
    "#append\n",
    "#we have to pass a variable with the function, the function adds it to the right most(last index)\n",
    "a: str = [\"suhaib\", \"qasim\", \"ali\"]\n",
    "print(a)\n",
    "a.append(\"Hameed\")\n",
    "print(a)\n"
   ]
  },
  {
   "cell_type": "code",
   "execution_count": 33,
   "metadata": {},
   "outputs": [
    {
     "name": "stdout",
     "output_type": "stream",
     "text": [
      "['suhaib', 'qasim', 'ali']\n",
      "['ali', 'qasim', 'suhaib']\n"
     ]
    }
   ],
   "source": [
    "#reverse\n",
    "#reverses the whole list\n",
    "#reverse is a in-memory function = change real data\n",
    "a: str = [\"suhaib\", \"qasim\", \"ali\"]\n",
    "print(a)\n",
    "a.reverse()\n",
    "print(a)"
   ]
  },
  {
   "cell_type": "code",
   "execution_count": 35,
   "metadata": {},
   "outputs": [
    {
     "name": "stdout",
     "output_type": "stream",
     "text": [
      "['suhaib', 'qasim', 'ali']\n",
      "['suhaib', 'qasim']\n",
      "['suhaib']\n"
     ]
    }
   ],
   "source": [
    "#pop\n",
    "#removes the last element from the list\n",
    "#pop is a returning function so we can store the popped element in a variable\n",
    "a: str = [\"suhaib\", \"qasim\", \"ali\"]\n",
    "print(a)\n",
    "a.pop()\n",
    "print(a)\n",
    "\n",
    "\n",
    "#we can remove any index element by passing the index in pop function\n",
    "a.pop(1)\n",
    "print(a)"
   ]
  },
  {
   "cell_type": "code",
   "execution_count": 39,
   "metadata": {},
   "outputs": [
    {
     "name": "stdout",
     "output_type": "stream",
     "text": [
      "[]\n",
      "['sir qasim']\n",
      "['sir qasim', 'sir zia']\n"
     ]
    }
   ],
   "source": [
    "#append\n",
    "#append method adds the value in the end\n",
    "names : list[str] = []\n",
    "print(names)\n",
    "names.append(\"sir qasim\")\n",
    "print(names)\n",
    "names.append(\"sir zia\")\n",
    "print(names)\n",
    "\n"
   ]
  },
  {
   "cell_type": "code",
   "execution_count": 41,
   "metadata": {},
   "outputs": [
    {
     "name": "stdout",
     "output_type": "stream",
     "text": [
      "['a', 'b', 'c', 'd', 'e', 'f']\n",
      "['a', 'Qasim', 'b', 'c', 'd', 'e', 'f']\n"
     ]
    }
   ],
   "source": [
    "#insert\n",
    "names : list[str] = ['a','b','c','d','e','f']\n",
    "print(names)\n",
    "names.insert(1,\"Qasim\")#inserts at any index given / at particular index \n",
    "print(names)"
   ]
  },
  {
   "cell_type": "code",
   "execution_count": 42,
   "metadata": {},
   "outputs": [
    {
     "name": "stdout",
     "output_type": "stream",
     "text": [
      "['1', '2', '3']\n"
     ]
    },
    {
     "ename": "NameError",
     "evalue": "name 'a' is not defined",
     "output_type": "error",
     "traceback": [
      "\u001b[1;31m---------------------------------------------------------------------------\u001b[0m",
      "\u001b[1;31mNameError\u001b[0m                                 Traceback (most recent call last)",
      "Cell \u001b[1;32mIn[42], line 4\u001b[0m\n\u001b[0;32m      2\u001b[0m \u001b[38;5;28mprint\u001b[39m(a)\n\u001b[0;32m      3\u001b[0m \u001b[38;5;28;01mdel\u001b[39;00m a\n\u001b[1;32m----> 4\u001b[0m \u001b[38;5;28mprint\u001b[39m(\u001b[43ma\u001b[49m)\n",
      "\u001b[1;31mNameError\u001b[0m: name 'a' is not defined"
     ]
    }
   ],
   "source": [
    "a: list[str] = ['1','2','3']\n",
    "print(a)\n",
    "del a#deletes the variable\n",
    "print(a)#since a is not present now so error"
   ]
  },
  {
   "cell_type": "code",
   "execution_count": 43,
   "metadata": {},
   "outputs": [
    {
     "name": "stdout",
     "output_type": "stream",
     "text": [
      "['1', '2', '3', '4']\n",
      "[]\n"
     ]
    }
   ],
   "source": [
    "a:list[str] = ['1','2','3','4']\n",
    "print(a)\n",
    "a.clear() #removes all element but object remains\n",
    "print(a)"
   ]
  },
  {
   "cell_type": "code",
   "execution_count": 45,
   "metadata": {},
   "outputs": [
    {
     "name": "stdout",
     "output_type": "stream",
     "text": [
      "['a', 'b', 'c']\n",
      "['a', 'b', 'c']\n",
      "['pak', 'b', 'c']\n",
      "['pak', 'b', 'c']\n"
     ]
    }
   ],
   "source": [
    "a: list[str] = ['a','b','c']\n",
    "b=a # shallow copy\n",
    "print(a)\n",
    "print(b)\n",
    "\n",
    "b[0] = \"pak\"  #changes in b but changes reflect both in a and b as well\n",
    "print(a)\n",
    "print(b)\n",
    "\n"
   ]
  },
  {
   "cell_type": "code",
   "execution_count": 46,
   "metadata": {},
   "outputs": [
    {
     "name": "stdout",
     "output_type": "stream",
     "text": [
      "['a', 'b', 'c']\n",
      "['a', 'b', 'c']\n",
      "['a', 'b', 'c']\n",
      "['pak', 'b', 'c']\n"
     ]
    }
   ],
   "source": [
    "a: list[str] = ['a','b','c']\n",
    "b=a.copy() # deep copy\n",
    "print(a)\n",
    "print(b)\n",
    "\n",
    "b[0] = \"pak\"  #changes in b only because of deep copy\n",
    "print(a)\n",
    "print(b)"
   ]
  },
  {
   "cell_type": "code",
   "execution_count": 47,
   "metadata": {},
   "outputs": [
    {
     "name": "stdout",
     "output_type": "stream",
     "text": [
      "2\n",
      "2\n"
     ]
    }
   ],
   "source": [
    "#count\n",
    "#counts the variable passed, the number of times variable occur in the list\n",
    "a:list[str] = ['a','a','b','b','c','c']\n",
    "print(a.count(\"c\"))\n",
    "print(a.count(\"b\"))\n",
    "\n"
   ]
  },
  {
   "cell_type": "code",
   "execution_count": 49,
   "metadata": {},
   "outputs": [
    {
     "name": "stdout",
     "output_type": "stream",
     "text": [
      "['Suhaib', 'ali', 'ahmed', 'hamid']\n",
      "['a', 'b', 'c']\n",
      "['Suhaib', 'ali', 'ahmed', 'hamid', ['a', 'b', 'c']]\n"
     ]
    }
   ],
   "source": [
    "names : list[str] = [\"Suhaib\",\"ali\",\"ahmed\",\"hamid\"]\n",
    "new_names : list[str] = ['a','b','c']\n",
    "print(names)\n",
    "print(new_names)\n",
    "names.append(new_names) # adds the list in the end as a single element\n",
    "print(names)"
   ]
  },
  {
   "cell_type": "code",
   "execution_count": 50,
   "metadata": {},
   "outputs": [
    {
     "name": "stdout",
     "output_type": "stream",
     "text": [
      "['Suhaib', 'ali', 'ahmed', 'hamid']\n",
      "['a', 'b', 'c']\n",
      "['Suhaib', 'ali', 'ahmed', 'hamid', 'a', 'b', 'c']\n"
     ]
    }
   ],
   "source": [
    "names : list[str] = [\"Suhaib\",\"ali\",\"ahmed\",\"hamid\"]\n",
    "new_names : list[str] = ['a','b','c']\n",
    "print(names)\n",
    "print(new_names)\n",
    "names.extend(new_names) # adds the list's element in the end as one by one\n",
    "print(names)"
   ]
  },
  {
   "cell_type": "code",
   "execution_count": 51,
   "metadata": {},
   "outputs": [
    {
     "name": "stdout",
     "output_type": "stream",
     "text": [
      "['Suhaib', 'ali', 'ahmed', 'hamid']\n",
      "['ali', 'ahmed', 'hamid']\n"
     ]
    }
   ],
   "source": [
    "#remove\n",
    "names : list[str] = [\"Suhaib\",\"ali\",\"ahmed\",\"hamid\"]\n",
    "print(names)\n",
    "names.remove(\"Suhaib\")# removes an element by passing it's value\n",
    "print(names)"
   ]
  },
  {
   "cell_type": "code",
   "execution_count": 53,
   "metadata": {},
   "outputs": [
    {
     "name": "stdout",
     "output_type": "stream",
     "text": [
      "['Suhaib', 'ali', 'ahmed', 'hamid']\n",
      "0\n"
     ]
    }
   ],
   "source": [
    "#index\n",
    "names : list[str] = [\"Suhaib\",\"ali\",\"ahmed\",\"hamid\"]\n",
    "print(names)\n",
    "print(names.index(\"Suhaib\"))#returns the index of the element we gave as an argument\n"
   ]
  },
  {
   "cell_type": "code",
   "execution_count": 55,
   "metadata": {},
   "outputs": [
    {
     "name": "stdout",
     "output_type": "stream",
     "text": [
      "['Suhaib', 'ali', 'ahmed', 'hamid', 'Suhaib']\n",
      "0\n"
     ]
    }
   ],
   "source": [
    "#index\n",
    "names : list[str] = [\"Suhaib\",\"ali\",\"ahmed\",\"hamid\",\"Suhaib\"]\n",
    "print(names)\n",
    "print(names.index(\"Suhaib\"))#\"Suhaib\" exists twice in the list so it gives the first occurance index\n",
    "\n"
   ]
  },
  {
   "cell_type": "code",
   "execution_count": 56,
   "metadata": {},
   "outputs": [
    {
     "name": "stdout",
     "output_type": "stream",
     "text": [
      "['Suhaib', 'ali', 'ahmed', 'hamid', 'Suhaib']\n",
      "4\n"
     ]
    }
   ],
   "source": [
    "#index\n",
    "names : list[str] = [\"Suhaib\",\"ali\",\"ahmed\",\"hamid\",\"Suhaib\"]\n",
    "print(names)\n",
    "print(names.index(\"Suhaib\",2)) #it will search after index 2(inclusive)"
   ]
  },
  {
   "cell_type": "code",
   "execution_count": 59,
   "metadata": {},
   "outputs": [
    {
     "name": "stdout",
     "output_type": "stream",
     "text": [
      "['A', 'C', 'B', 'D', 'F', 'E']\n",
      "['A', 'B', 'C', 'D', 'E', 'F']\n"
     ]
    }
   ],
   "source": [
    "#sort\n",
    "#sort in ascending order\n",
    "#lowest to highest\n",
    "names: list[str] = list(\"ACBDFE\")\n",
    "print(names)\n",
    "names.sort() #in-memory = change real data\n",
    "print(names)\n"
   ]
  },
  {
   "cell_type": "code",
   "execution_count": 60,
   "metadata": {},
   "outputs": [
    {
     "name": "stdout",
     "output_type": "stream",
     "text": [
      "['A', 'C', 'B', 'D', 'F', 'E']\n",
      "['F', 'E', 'D', 'C', 'B', 'A']\n"
     ]
    }
   ],
   "source": [
    "#sort\n",
    "#sort in descending order\n",
    "#highest to lowest\n",
    "names: list[str] = list(\"ACBDFE\")\n",
    "print(names)\n",
    "names.sort(reverse=True) #in-memory = change real data\n",
    "print(names)"
   ]
  }
 ],
 "metadata": {
  "kernelspec": {
   "display_name": "Python 3",
   "language": "python",
   "name": "python3"
  },
  "language_info": {
   "codemirror_mode": {
    "name": "ipython",
    "version": 3
   },
   "file_extension": ".py",
   "mimetype": "text/x-python",
   "name": "python",
   "nbconvert_exporter": "python",
   "pygments_lexer": "ipython3",
   "version": "3.12.2"
  }
 },
 "nbformat": 4,
 "nbformat_minor": 2
}
