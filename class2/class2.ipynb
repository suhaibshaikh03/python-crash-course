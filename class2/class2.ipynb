{
 "cells": [
  {
   "cell_type": "code",
   "execution_count": 1,
   "metadata": {},
   "outputs": [
    {
     "name": "stdout",
     "output_type": "stream",
     "text": [
      "name\n"
     ]
    }
   ],
   "source": [
    "print(\"name\")"
   ]
  },
  {
   "cell_type": "code",
   "execution_count": 2,
   "metadata": {},
   "outputs": [
    {
     "ename": "NameError",
     "evalue": "name 'name' is not defined",
     "output_type": "error",
     "traceback": [
      "\u001b[1;31m---------------------------------------------------------------------------\u001b[0m",
      "\u001b[1;31mNameError\u001b[0m                                 Traceback (most recent call last)",
      "Cell \u001b[1;32mIn[2], line 1\u001b[0m\n\u001b[1;32m----> 1\u001b[0m \u001b[38;5;28mprint\u001b[39m(name)\n",
      "\u001b[1;31mNameError\u001b[0m: name 'name' is not defined"
     ]
    }
   ],
   "source": [
    "print(name) #error because no variable of type string"
   ]
  },
  {
   "cell_type": "markdown",
   "metadata": {},
   "source": [
    "String datatype in python\n"
   ]
  },
  {
   "cell_type": "code",
   "execution_count": 3,
   "metadata": {},
   "outputs": [
    {
     "name": "stdout",
     "output_type": "stream",
     "text": [
      "Ahmed\n",
      "<class 'str'>\n",
      "Suhaib\n",
      "<class 'str'>\n",
      "Ali\n",
      "<class 'str'>\n",
      "Abbas\n",
      "<class 'str'>\n"
     ]
    }
   ],
   "source": [
    "#string text can be encloded in 'xyz',\"xyz\",''' xyz''',\"\"\" xyz\"\"\"\n",
    "name1:str = 'Ahmed'\n",
    "name2:str = \"Suhaib\"\n",
    "name3:str = '''Ali'''\n",
    "name4:str = \"\"\"Abbas\"\"\"\n",
    "print(name1)\n",
    "print(type(name1))\n",
    "print(name2)\n",
    "print(type(name2))\n",
    "print(name3)\n",
    "print(type(name3))\n",
    "print(name4)\n",
    "print(type(name4))\n",
    "#all of them are considered that they are part of the class 'string'\n",
    "\n"
   ]
  },
  {
   "cell_type": "code",
   "execution_count": 6,
   "metadata": {},
   "outputs": [
    {
     "ename": "SyntaxError",
     "evalue": "unterminated string literal (detected at line 1) (3185412297.py, line 1)",
     "output_type": "error",
     "traceback": [
      "\u001b[1;36m  Cell \u001b[1;32mIn[6], line 1\u001b[1;36m\u001b[0m\n\u001b[1;33m    message:str = 'Suhaib's code'\u001b[0m\n\u001b[1;37m                                ^\u001b[0m\n\u001b[1;31mSyntaxError\u001b[0m\u001b[1;31m:\u001b[0m unterminated string literal (detected at line 1)\n"
     ]
    }
   ],
   "source": [
    "message:str = 'Suhaib's code'\n",
    "print(message)\n",
    "#error because compiler can not differenciate in single quotes ,where the string is over"
   ]
  },
  {
   "cell_type": "code",
   "execution_count": 7,
   "metadata": {},
   "outputs": [
    {
     "name": "stdout",
     "output_type": "stream",
     "text": [
      "Suhaib's code\n",
      "my name is \"Suhaib\"\n"
     ]
    }
   ],
   "source": [
    "message:str = \"Suhaib's code\"\n",
    "print(message)\n",
    "#if you need single quotes in the string then use double quotes when writing the string\n",
    "\n",
    "message2:str = 'my name is \"Suhaib\"'\n",
    "print(message2)\n",
    "#if you need double quotes in the string then enclose your string using single quotes"
   ]
  },
  {
   "cell_type": "code",
   "execution_count": 8,
   "metadata": {},
   "outputs": [
    {
     "name": "stdout",
     "output_type": "stream",
     "text": [
      "this code is Suhaib's code\n"
     ]
    }
   ],
   "source": [
    "#if you need to use one type of quotes inside and outside the sting as well so use \\ before it to convert special character to simple character\n",
    "message:str='this code is Suhaib\\'s code'\n",
    "print(message)\n",
    "#this will resolve the error "
   ]
  },
  {
   "cell_type": "code",
   "execution_count": 9,
   "metadata": {},
   "outputs": [
    {
     "data": {
      "text/plain": [
       "'ab'"
      ]
     },
     "execution_count": 9,
     "metadata": {},
     "output_type": "execute_result"
    }
   ],
   "source": [
    "\"a\"+\"b\""
   ]
  },
  {
   "cell_type": "code",
   "execution_count": 10,
   "metadata": {},
   "outputs": [
    {
     "ename": "TypeError",
     "evalue": "can only concatenate str (not \"int\") to str",
     "output_type": "error",
     "traceback": [
      "\u001b[1;31m---------------------------------------------------------------------------\u001b[0m",
      "\u001b[1;31mTypeError\u001b[0m                                 Traceback (most recent call last)",
      "Cell \u001b[1;32mIn[10], line 7\u001b[0m\n\u001b[0;32m      4\u001b[0m education:\u001b[38;5;28mstr\u001b[39m \u001b[38;5;241m=\u001b[39m \u001b[38;5;124m\"\u001b[39m\u001b[38;5;124mBachelors in Computer Science\u001b[39m\u001b[38;5;124m\"\u001b[39m\n\u001b[0;32m      5\u001b[0m age:\u001b[38;5;28mint\u001b[39m \u001b[38;5;241m=\u001b[39m \u001b[38;5;241m20\u001b[39m\n\u001b[1;32m----> 7\u001b[0m card:\u001b[38;5;28mstr\u001b[39m \u001b[38;5;241m=\u001b[39m \u001b[38;5;124m\"\u001b[39m\u001b[38;5;124mStudent Card\u001b[39m\u001b[38;5;130;01m\\n\u001b[39;00m\u001b[38;5;124mStudent name:\u001b[39m\u001b[38;5;124m\"\u001b[39m \u001b[38;5;241m+\u001b[39m name \u001b[38;5;241m+\u001b[39m\u001b[38;5;124m\"\u001b[39m\u001b[38;5;124mAge:\u001b[39m\u001b[38;5;124m\"\u001b[39m \u001b[38;5;241m+\u001b[39m age\n",
      "\u001b[1;31mTypeError\u001b[0m: can only concatenate str (not \"int\") to str"
     ]
    }
   ],
   "source": [
    "#concatenation\n",
    "name:str = \"Suhaib Shaikh\"\n",
    "fname:str = \"Shaikh Mohsin\"\n",
    "education:str = \"Bachelors in Computer Science\"\n",
    "age:int = 20\n",
    "\n",
    "card:str = \"Student Card\\nStudent name:\" + name +\"Age:\" + age\n",
    "#error because cannot concatenate varaibles of diiferent types ,age is an integer type variable,we need to convert it into string first"
   ]
  },
  {
   "cell_type": "code",
   "execution_count": 19,
   "metadata": {},
   "outputs": [
    {
     "name": "stdout",
     "output_type": "stream",
     "text": [
      "Student Card\n",
      "Student name:Suhaib Shaikh\n",
      "Age:20\n",
      "Education:Bachelors in Computer Science\n"
     ]
    }
   ],
   "source": [
    "name:str = \"Suhaib Shaikh\"\n",
    "fname:str = \"Shaikh Mohsin\"\n",
    "education:str = \"Bachelors in Computer Science\"\n",
    "age:int = 20\n",
    "\n",
    "card:str = \"Student Card\\nStudent name:\" + name +\"\\nAge:\" + str(age)+\"\\nEducation:\"+education\n",
    "print(card)\n",
    "#we had to typecast age and convert it into string in the way it has been done above\n",
    "#now it will concatenate and work perfectly fine due to similar data types"
   ]
  },
  {
   "cell_type": "code",
   "execution_count": 18,
   "metadata": {},
   "outputs": [
    {
     "name": "stdout",
     "output_type": "stream",
     "text": [
      "18\n",
      "18\n"
     ]
    }
   ],
   "source": [
    "print(5+6+7)\n",
    "#the line can be changed anywhere and anytime,we just have to include back slash at the end, it has no effect on the code\n",
    "#\"\\\" line continue\n",
    "print(5+\\\n",
    "      6+\\\n",
    "        7)"
   ]
  },
  {
   "cell_type": "markdown",
   "metadata": {},
   "source": [
    "\n",
    "Multiline string,\"\"\"abc \"\"\",'''abc '''"
   ]
  },
  {
   "cell_type": "code",
   "execution_count": 20,
   "metadata": {},
   "outputs": [
    {
     "name": "stdout",
     "output_type": "stream",
     "text": [
      " \n",
      "Student Card\n",
      "Student Name:....\n",
      "Father's Name:....\n",
      "Age:....\n",
      "Education:......\n",
      "\n"
     ]
    }
   ],
   "source": [
    "name:str = \"Suhaib Shaikh\"\n",
    "fname:str = \"Shaikh Mohsin\"\n",
    "education:str = \"Bachelors in Computer Science\"\n",
    "age:int = 20\n",
    "#we can use single triple quotes of double triple quotes for a multiline string as shown below\n",
    "card:str = \"\"\" \n",
    "Student Card\n",
    "Student Name:....\n",
    "Father's Name:....\n",
    "Age:....\n",
    "Education:......\n",
    "\"\"\"\n",
    "print(card)"
   ]
  },
  {
   "cell_type": "markdown",
   "metadata": {},
   "source": [
    "F-string"
   ]
  },
  {
   "cell_type": "code",
   "execution_count": 23,
   "metadata": {},
   "outputs": [
    {
     "name": "stdout",
     "output_type": "stream",
     "text": [
      " \n",
      "Student Card\n",
      "Student Name: Suhaib Shaikh\n",
      "Father's Name: Shaikh Mohsin\n",
      "Age: 20\n",
      "Education: Bachelors in Computer Science\n",
      "\n"
     ]
    }
   ],
   "source": [
    "name:str = \"Suhaib Shaikh\"\n",
    "fname:str = \"Shaikh Mohsin\"\n",
    "education:str = \"Bachelors in Computer Science\"\n",
    "age:int = 20\n",
    "#we can use f before the start of the string to use variable values inside the string\n",
    "#after adding f we can use variables inside the string using curly brackets\n",
    "card:str = f\"\"\" \n",
    "Student Card\n",
    "Student Name: {name}\n",
    "Father's Name: {fname}\n",
    "Age: {age}\n",
    "Education: {education}\n",
    "{2+8+9}#we can also run a numerical function inside f-string\n",
    "\"\"\"\n",
    "print(card)\n",
    "#we did not have to typecast age. This is the advantage of using f-string"
   ]
  },
  {
   "cell_type": "markdown",
   "metadata": {},
   "source": [
    "F-string and jinja style\n"
   ]
  },
  {
   "cell_type": "code",
   "execution_count": 26,
   "metadata": {},
   "outputs": [
    {
     "data": {
      "text/plain": [
       "'\\nstudent name: {{name}}\\n'"
      ]
     },
     "execution_count": 26,
     "metadata": {},
     "output_type": "execute_result"
    }
   ],
   "source": [
    "#jinja style\n",
    "#two curly brackets\n",
    "name:str = \"Suhaib\"\n",
    "\"\"\"\n",
    "student name: {{name}}\n",
    "\"\"\""
   ]
  },
  {
   "cell_type": "markdown",
   "metadata": {},
   "source": [
    "F-string continuation\n"
   ]
  },
  {
   "cell_type": "code",
   "execution_count": 27,
   "metadata": {},
   "outputs": [
    {
     "name": "stdout",
     "output_type": "stream",
     "text": [
      " \n",
      "Student Card\n",
      "Student Name: Suhaib Shaikh\n",
      "Father's Name: Shaikh Mohsin\n",
      "Age: 20\n",
      "Education: Bachelors in Computer Science\n",
      "\n",
      "\n"
     ]
    }
   ],
   "source": [
    "name:str = \"Suhaib Shaikh\"\n",
    "fname:str = \"Shaikh Mohsin\"\n",
    "education:str = \"Bachelors in Computer Science\"\n",
    "age:int = 20\n",
    "card:str = f\"\"\" \n",
    "Student Card\n",
    "Student Name: %s\n",
    "Father's Name: %s\n",
    "Age: %d\n",
    "Education: %s\n",
    "\n",
    "\"\"\" %(name,fname,age,education)\n",
    "#this is another way of writing f-string\n",
    "#this way is similar to C language\n",
    "\n",
    "print(card)"
   ]
  },
  {
   "cell_type": "code",
   "execution_count": null,
   "metadata": {},
   "outputs": [],
   "source": [
    "name:str = \"Suhaib Shaikh\"\n",
    "fname:str = \"Shaikh Mohsin\"\n",
    "education:str = \"Bachelors in Computer Science\"\n",
    "age:int = 20\n",
    "card:str = f\"\"\" \n",
    "Student Card\n",
    "Student Name: {name}\n",
    "Father's Name: {fname}\n",
    "Age: {age}\n",
    "Education: {education}\n",
    "\"\"\"\n",
    "print(card)"
   ]
  },
  {
   "cell_type": "markdown",
   "metadata": {},
   "source": [
    "String Methods\n"
   ]
  },
  {
   "cell_type": "code",
   "execution_count": 29,
   "metadata": {},
   "outputs": [
    {
     "data": {
      "text/plain": [
       "['capitalize',\n",
       " 'casefold',\n",
       " 'center',\n",
       " 'count',\n",
       " 'encode',\n",
       " 'endswith',\n",
       " 'expandtabs',\n",
       " 'find',\n",
       " 'format',\n",
       " 'format_map',\n",
       " 'index',\n",
       " 'isalnum',\n",
       " 'isalpha',\n",
       " 'isascii',\n",
       " 'isdecimal',\n",
       " 'isdigit',\n",
       " 'isidentifier',\n",
       " 'islower',\n",
       " 'isnumeric',\n",
       " 'isprintable',\n",
       " 'isspace',\n",
       " 'istitle',\n",
       " 'isupper',\n",
       " 'join',\n",
       " 'ljust',\n",
       " 'lower',\n",
       " 'lstrip',\n",
       " 'maketrans',\n",
       " 'partition',\n",
       " 'removeprefix',\n",
       " 'removesuffix',\n",
       " 'replace',\n",
       " 'rfind',\n",
       " 'rindex',\n",
       " 'rjust',\n",
       " 'rpartition',\n",
       " 'rsplit',\n",
       " 'rstrip',\n",
       " 'split',\n",
       " 'splitlines',\n",
       " 'startswith',\n",
       " 'strip',\n",
       " 'swapcase',\n",
       " 'title',\n",
       " 'translate',\n",
       " 'upper',\n",
       " 'zfill']"
      ]
     },
     "execution_count": 29,
     "metadata": {},
     "output_type": "execute_result"
    }
   ],
   "source": [
    "[i for i in dir(str) if \"__\" not in i]\n",
    "#lists down all string methods"
   ]
  },
  {
   "cell_type": "code",
   "execution_count": 31,
   "metadata": {},
   "outputs": [
    {
     "name": "stdout",
     "output_type": "stream",
     "text": [
      "Suhaib shaikh\n",
      "SuHaIb ShAiKH\n"
     ]
    }
   ],
   "source": [
    "\n",
    "name:str = \"SuHaIb ShAiKH\"\n",
    "print(name.capitalize())#First word's first letter is capitalized using this method\n",
    "print(name)"
   ]
  },
  {
   "cell_type": "code",
   "execution_count": 32,
   "metadata": {},
   "outputs": [
    {
     "name": "stdout",
     "output_type": "stream",
     "text": [
      "suhaib shaikh\n",
      "SuHaIb ShAiKH\n"
     ]
    }
   ],
   "source": [
    "name:str = \"SuHaIb ShAiKH\"\n",
    "print(name.lower())#prints every letter in lowercase \n",
    "print(name)"
   ]
  },
  {
   "cell_type": "code",
   "execution_count": 33,
   "metadata": {},
   "outputs": [
    {
     "name": "stdout",
     "output_type": "stream",
     "text": [
      "suhaib shaikh\n",
      "SuHaIb ShAiKH\n"
     ]
    }
   ],
   "source": [
    "name:str = \"SuHaIb ShAiKH\"\n",
    "print(name.casefold())\n",
    "#This method is similar to the lower() method, but the casefold() method is stronger, more aggressive, \n",
    "#meaning that it will convert more characters into lower case, and will find more matches when comparing two strings and both are converted using the casefold() method.\n",
    "\n",
    "\n",
    "print(name)"
   ]
  },
  {
   "cell_type": "code",
   "execution_count": 37,
   "metadata": {},
   "outputs": [
    {
     "name": "stdout",
     "output_type": "stream",
     "text": [
      "                                SuHaIb ShAiKH                                \n",
      "SuHaIb ShAiKH\n"
     ]
    }
   ],
   "source": [
    "name:str = \"SuHaIb ShAiKH\"\n",
    "print(name.center(77))\n",
    "print(name)\n",
    "#The center() method will center align the string, using a specified character (space is default) as the fill character."
   ]
  },
  {
   "cell_type": "code",
   "execution_count": 38,
   "metadata": {},
   "outputs": [
    {
     "name": "stdout",
     "output_type": "stream",
     "text": [
      "Suhaib Shaikh\n",
      "SuHaIb ShAiKH\n"
     ]
    }
   ],
   "source": [
    "name:str = \"SuHaIb ShAiKH\"\n",
    "print(name.title())\n",
    "print(name)\n",
    "#The title() method returns a string where the first character in every word is upper case. Like a header, or a title"
   ]
  },
  {
   "cell_type": "code",
   "execution_count": 40,
   "metadata": {},
   "outputs": [
    {
     "data": {
      "text/plain": [
       "'pakistan value a = 7 and value b = 8'"
      ]
     },
     "execution_count": 40,
     "metadata": {},
     "output_type": "execute_result"
    }
   ],
   "source": [
    "a = 7\n",
    "b = 8\n",
    "# {} place holder\n",
    "\"pakistan value a = {} and value b = {}\".format(a,b)\n",
    "#the format method will place the first variable in first curly bracket's place and second variable in second curly bracket's place"
   ]
  },
  {
   "cell_type": "code",
   "execution_count": 42,
   "metadata": {},
   "outputs": [
    {
     "name": "stdout",
     "output_type": "stream",
     "text": [
      " \n",
      "Student Card\n",
      "Student Name: Suhaib Shaikh\n",
      "Father's Name: Shaikh Mohsin\n",
      "Age: 20\n",
      "Education: Bachelors in Computer Science\n",
      "\n"
     ]
    }
   ],
   "source": [
    "name:str = \"Suhaib Shaikh\"\n",
    "fname:str = \"Shaikh Mohsin\"\n",
    "education:str = \"Bachelors in Computer Science\"\n",
    "age:int = 20\n",
    "card:str = \"\"\" \n",
    "Student Card\n",
    "Student Name: {}\n",
    "Father's Name: {}\n",
    "Age: {}\n",
    "Education: {}\n",
    "\"\"\".format(name,fname,age,education)\n",
    "print(card)"
   ]
  },
  {
   "cell_type": "code",
   "execution_count": 44,
   "metadata": {},
   "outputs": [
    {
     "name": "stdout",
     "output_type": "stream",
     "text": [
      " \n",
      "Student Card\n",
      "Student Name: Suhaib Shaikh\n",
      "Father's Name: Shaikh Mohsin\n",
      "Age: 20\n",
      "Education: Bachelors in Computer Science\n",
      "\n"
     ]
    }
   ],
   "source": [
    "name:str = \"Suhaib Shaikh\"\n",
    "fname:str = \"Shaikh Mohsin\"\n",
    "education:str = \"Bachelors in Computer Science\"\n",
    "age:int = 20\n",
    "card:str = \"\"\" \n",
    "Student Card\n",
    "Student Name: {2}\n",
    "Father's Name: {1}\n",
    "Age: {3}\n",
    "Education: {0}\n",
    "\"\"\".format(education,fname,name,age)#we can write format variable in any order but have to mention indexing in string using curly brackets and inside write index number\n",
    "print(card)"
   ]
  },
  {
   "cell_type": "code",
   "execution_count": 45,
   "metadata": {},
   "outputs": [
    {
     "name": "stdout",
     "output_type": "stream",
     "text": [
      " \n",
      "Student Card\n",
      "Student Name: Suhaib Shaikh\n",
      "Father's Name: Shaikh Mohsin\n",
      "Age: 20\n",
      "Education: Bachelors in Computer Science\n",
      "\n"
     ]
    }
   ],
   "source": [
    "name:str = \"Suhaib Shaikh\"\n",
    "fname:str = \"Shaikh Mohsin\"\n",
    "education:str = \"Bachelors in Computer Science\"\n",
    "age:int = 20\n",
    "card:str = \"\"\" \n",
    "Student Card\n",
    "Student Name: {a}\n",
    "Father's Name: {b}\n",
    "Age: {c}\n",
    "Education: {d}\n",
    "\"\"\".format(d=education,b=fname,a=name,c=age)#this is another way of writing code\n",
    "print(card)"
   ]
  },
  {
   "cell_type": "code",
   "execution_count": 48,
   "metadata": {},
   "outputs": [
    {
     "name": "stdout",
     "output_type": "stream",
     "text": [
      "My name is Muhammad Suhaib Shaikh\n",
      "7\n"
     ]
    }
   ],
   "source": [
    "add:str = \"\"\"\n",
    "print(\"My name is Muhammad Suhaib Shaikh\")\n",
    "a:int = 3\n",
    "b:int = 4\n",
    "print(a+b)\n",
    "\"\"\"\n",
    "exec(add)#the exec method will execute the contents in string variable as python code"
   ]
  },
  {
   "cell_type": "code",
   "execution_count": 54,
   "metadata": {},
   "outputs": [
    {
     "name": "stdout",
     "output_type": "stream",
     "text": [
      "SuHaIb      ShAIkh      \n",
      "     SuHaIb      ShAIkh\n",
      "SuHaIb      ShAIkh\n"
     ]
    },
    {
     "data": {
      "text/plain": [
       "'     SuHaIb      ShAIkh      '"
      ]
     },
     "metadata": {},
     "output_type": "display_data"
    }
   ],
   "source": [
    "name:str = \"     SuHaIb      ShAIkh      \"\n",
    "print(name.lstrip())#removes all spaces from left\n",
    "print(name.rstrip())#removes all spaces from the right\n",
    "print(name.strip())#removes spaces from left and as well as right\n",
    "#does not removes spaces that are in between\n",
    "display(name)"
   ]
  },
  {
   "cell_type": "code",
   "execution_count": null,
   "metadata": {},
   "outputs": [],
   "source": [
    "import re\n",
    "name:str =\"     Muhammad     Suhaib       \"\n",
    "display(name)\n",
    "name1:str = re.sub('{2,100}',' ',name).strip()\n",
    "display(name1)\n"
   ]
  },
  {
   "cell_type": "code",
   "execution_count": 56,
   "metadata": {},
   "outputs": [
    {
     "name": "stdout",
     "output_type": "stream",
     "text": [
      "suhaib shaikh\n",
      "SUHAIB SHAIKH\n"
     ]
    }
   ],
   "source": [
    "name:str = \"Suhaib Shaikh\"\n",
    "print(name.lower())#prints string in lowercase\n",
    "print(name.upper())#prints string in uppercase"
   ]
  },
  {
   "cell_type": "code",
   "execution_count": 58,
   "metadata": {},
   "outputs": [
    {
     "name": "stdout",
     "output_type": "stream",
     "text": [
      "Suhaib \n",
      "Shaikh\n",
      "Suhaib \tShaikh\n",
      "Suhab Shaikh\n"
     ]
    }
   ],
   "source": [
    "#\\n,\\t,\\b are special meaning whitespace characters\n",
    "print(\"Suhaib \\nShaikh\")#\\n is used for a new line\n",
    "print(\"Suhaib \\tShaikh\")#\\t is used for some space\n",
    "print(\"Suhai\\bb Shaikh\")#\\b is used for backspace"
   ]
  },
  {
   "cell_type": "code",
   "execution_count": 60,
   "metadata": {},
   "outputs": [
    {
     "ename": "SyntaxError",
     "evalue": "invalid decimal literal (378111816.py, line 1)",
     "output_type": "error",
     "traceback": [
      "\u001b[1;36m  Cell \u001b[1;32mIn[60], line 1\u001b[1;36m\u001b[0m\n\u001b[1;33m    1name:str = \"Qasim\"\u001b[0m\n\u001b[1;37m    ^\u001b[0m\n\u001b[1;31mSyntaxError\u001b[0m\u001b[1;31m:\u001b[0m invalid decimal literal\n"
     ]
    }
   ],
   "source": [
    "1name:str = \"Qasim\"\n",
    "print(1name)\n",
    "#error because name cannot start with any number according to standard naming conventions "
   ]
  },
  {
   "cell_type": "code",
   "execution_count": 61,
   "metadata": {},
   "outputs": [
    {
     "ename": "SyntaxError",
     "evalue": "invalid syntax (2463306952.py, line 1)",
     "output_type": "error",
     "traceback": [
      "\u001b[1;36m  Cell \u001b[1;32mIn[61], line 1\u001b[1;36m\u001b[0m\n\u001b[1;33m    piaic stude name:str = \"Qasim\"\u001b[0m\n\u001b[1;37m          ^\u001b[0m\n\u001b[1;31mSyntaxError\u001b[0m\u001b[1;31m:\u001b[0m invalid syntax\n"
     ]
    }
   ],
   "source": [
    "piaic student name:str = \"Qasim\"\n",
    "#error because a variable cannot contain spaces in between them according to standard naming conventions\n",
    "#replace spaces with underscore\n"
   ]
  },
  {
   "cell_type": "code",
   "execution_count": 62,
   "metadata": {},
   "outputs": [],
   "source": [
    "piaic_student_name:str = \"Qasim\"\n",
    "#this is the correct way"
   ]
  }
 ],
 "metadata": {
  "kernelspec": {
   "display_name": "latest",
   "language": "python",
   "name": "python3"
  },
  "language_info": {
   "codemirror_mode": {
    "name": "ipython",
    "version": 3
   },
   "file_extension": ".py",
   "mimetype": "text/x-python",
   "name": "python",
   "nbconvert_exporter": "python",
   "pygments_lexer": "ipython3",
   "version": "3.11.5"
  }
 },
 "nbformat": 4,
 "nbformat_minor": 2
}
