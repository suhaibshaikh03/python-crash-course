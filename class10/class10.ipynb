{
 "cells": [
  {
   "cell_type": "markdown",
   "metadata": {},
   "source": [
    "# Function\n",
    "* pre-defined\n",
    "    * provided in language\n",
    "* user-defined functions\n",
    "    * custom function\n",
    "## Similar properties on both type\n",
    "* Return and non-return function\n",
    "    * Return\n",
    "        * we can assign this function output in any variable\n",
    "    * Non-return\n",
    "        * only runs, we cannot assign value to variable\n",
    "        \n",
    "\n",
    "## components\n",
    "* function declaration\n",
    "    * function name\n",
    "    * name cannot be a reserved keyword\n",
    "    * parameters\n",
    "        * parameter types\n",
    "    * return output type\n",
    "* function body\n",
    "    * any business logic is written here\n",
    "* function calling\n",
    "    * function_name(arg1,arg2)\n",
    "\n",
    "## Syntax function\n",
    "\n",
    "def func_name(param1:type, param2:type)->Return_type:\n",
    "    function_body\n",
    "\n",
    "function_name(arg1,arg2)\n"
   ]
  },
  {
   "cell_type": "markdown",
   "metadata": {},
   "source": [
    "# pre-defined functions\n",
    "* print\n",
    "* len\n",
    "* id\n",
    "* dir\n",
    "* chr\n",
    "* ord\n",
    "* exec"
   ]
  },
  {
   "cell_type": "markdown",
   "metadata": {},
   "source": [
    "# Return and Non-return Function"
   ]
  },
  {
   "cell_type": "code",
   "execution_count": 4,
   "metadata": {},
   "outputs": [
    {
     "name": "stdout",
     "output_type": "stream",
     "text": [
      "Pakistan\n"
     ]
    },
    {
     "data": {
      "text/plain": [
       "None"
      ]
     },
     "metadata": {},
     "output_type": "display_data"
    }
   ],
   "source": [
    "a : str = print(\"Pakistan\") #this is a non-return function\n",
    "display(a)\n"
   ]
  },
  {
   "cell_type": "code",
   "execution_count": 5,
   "metadata": {},
   "outputs": [
    {
     "data": {
      "text/plain": [
       "8"
      ]
     },
     "metadata": {},
     "output_type": "display_data"
    }
   ],
   "source": [
    "a : str = len(\"Pakistan\")# a=8 ,this is a return function\n",
    "display(a)"
   ]
  },
  {
   "cell_type": "code",
   "execution_count": 1,
   "metadata": {},
   "outputs": [
    {
     "name": "stdout",
     "output_type": "stream",
     "text": [
      "aa\n"
     ]
    }
   ],
   "source": [
    "print(\"aa\")"
   ]
  },
  {
   "cell_type": "code",
   "execution_count": 8,
   "metadata": {},
   "outputs": [
    {
     "name": "stdout",
     "output_type": "stream",
     "text": [
      "PIAIC Generative AI\n",
      "Python Crash Course\n"
     ]
    }
   ],
   "source": [
    "# create simple function without any argument\n",
    "# default function\n",
    "def piaic()->None: # declaration/function signature\n",
    "    # function body start \n",
    "    print(\"PIAIC Generative AI\") #statement 1\n",
    "    print(\"Python Crash Course\") #statement 2\n",
    "    # function body end\n",
    "piaic() # function calling\n"
   ]
  },
  {
   "cell_type": "markdown",
   "metadata": {},
   "source": [
    "# Required parameter function"
   ]
  },
  {
   "cell_type": "code",
   "execution_count": 12,
   "metadata": {},
   "outputs": [
    {
     "name": "stdout",
     "output_type": "stream",
     "text": [
      "6\n"
     ]
    }
   ],
   "source": [
    "#                    param1       param2\n",
    "def add_two_nummbers(num1 : int , num2 : int)->int:\n",
    "    return num1 + num2\n",
    "#                       arg1,arg2\n",
    "x : int = add_two_nummbers(2,4)\n",
    "\n",
    "print(x)"
   ]
  },
  {
   "cell_type": "code",
   "execution_count": 14,
   "metadata": {},
   "outputs": [
    {
     "ename": "TypeError",
     "evalue": "add_two_nummbers() missing 1 required positional argument: 'num2'",
     "output_type": "error",
     "traceback": [
      "\u001b[1;31m---------------------------------------------------------------------------\u001b[0m",
      "\u001b[1;31mTypeError\u001b[0m                                 Traceback (most recent call last)",
      "Cell \u001b[1;32mIn[14], line 1\u001b[0m\n\u001b[1;32m----> 1\u001b[0m \u001b[43madd_two_nummbers\u001b[49m\u001b[43m(\u001b[49m\u001b[38;5;241;43m1\u001b[39;49m\u001b[43m)\u001b[49m\n\u001b[0;32m      2\u001b[0m \u001b[38;5;66;03m# error because both parameter needed\u001b[39;00m\n",
      "\u001b[1;31mTypeError\u001b[0m: add_two_nummbers() missing 1 required positional argument: 'num2'"
     ]
    }
   ],
   "source": [
    "add_two_nummbers(1)\n",
    "# error because both parameter needed"
   ]
  },
  {
   "cell_type": "markdown",
   "metadata": {},
   "source": [
    "# function with optional parameters"
   ]
  },
  {
   "cell_type": "code",
   "execution_count": 16,
   "metadata": {},
   "outputs": [
    {
     "name": "stdout",
     "output_type": "stream",
     "text": [
      "7\n",
      "16\n"
     ]
    }
   ],
   "source": [
    "def multiply_two_numbers(num1 : int, num2 : int = 7) -> int:\n",
    "    print(num1 * num2)\n",
    "\n",
    "multiply_two_numbers(1) # optional parameter used\n",
    "multiply_two_numbers(2,8) # user given arguments used\n",
    "\n",
    "    "
   ]
  },
  {
   "cell_type": "markdown",
   "metadata": {},
   "source": [
    "# Lambda Function\n",
    "* syntax\n",
    "* one line function\n",
    "* without name\n",
    "* only use in this line\n",
    "\n",
    "'''\n",
    "\n",
    "lambda param1,param2 : function_body\n",
    "    \n",
    "'''"
   ]
  },
  {
   "cell_type": "code",
   "execution_count": 17,
   "metadata": {},
   "outputs": [
    {
     "data": {
      "text/plain": [
       "15"
      ]
     },
     "execution_count": 17,
     "metadata": {},
     "output_type": "execute_result"
    }
   ],
   "source": [
    "a = lambda num1, num2 : num1 + num2 #no need to write return\n",
    "a(7,8)"
   ]
  },
  {
   "cell_type": "code",
   "execution_count": 20,
   "metadata": {},
   "outputs": [
    {
     "name": "stdout",
     "output_type": "stream",
     "text": [
      "[1, 4, 9, 16, 25, 36, 49, 64, 81, 100]\n"
     ]
    }
   ],
   "source": [
    "data : list[int] = [1,2,3,4,5,6,7,8,9,10]\n",
    "data = list(map(lambda x:x**2, data))\n",
    "print(data)"
   ]
  },
  {
   "cell_type": "code",
   "execution_count": 22,
   "metadata": {},
   "outputs": [
    {
     "name": "stdout",
     "output_type": "stream",
     "text": [
      "[2, 4, 6, 8, 10]\n"
     ]
    }
   ],
   "source": [
    "data : list[int] = [1,2,3,4,5,6,7,8,9,10]\n",
    "data = list(filter(lambda x:x%2==0, data))\n",
    "print(data)"
   ]
  },
  {
   "cell_type": "code",
   "execution_count": 41,
   "metadata": {},
   "outputs": [
    {
     "name": "stdout",
     "output_type": "stream",
     "text": [
      "[2, 4, 6, 8, 10, 12, 14, 16, 18, 20, 22, 24, 26, 28, 30, 32, 34, 36, 38, 40, 42, 44, 46, 48, 50, 52, 54, 56, 58, 60, 62, 64, 66, 68, 70, 72, 74, 76, 78, 80, 82, 84, 86, 88, 90, 92, 94, 96, 98, 100]\n"
     ]
    }
   ],
   "source": [
    "\n",
    "data:list[int] = list(filter(lambda x:x%2==0, range(1,101)))\n",
    "print(data)"
   ]
  },
  {
   "cell_type": "code",
   "execution_count": 43,
   "metadata": {},
   "outputs": [
    {
     "name": "stdout",
     "output_type": "stream",
     "text": [
      "2\n",
      "4\n"
     ]
    }
   ],
   "source": [
    "\n",
    "data = filter(lambda x:x%2==0, range(1,101))\n",
    "print(next(data))\n",
    "print(next(data))"
   ]
  },
  {
   "cell_type": "markdown",
   "metadata": {},
   "source": [
    "## Generator Function\n",
    "* iterate on element one by one\n",
    "* stops after each iteration\n",
    "* remember old iteration value (last iterate value)\n",
    "* next iterate \n",
    "    * go forward from last iterate value"
   ]
  },
  {
   "cell_type": "code",
   "execution_count": 33,
   "metadata": {},
   "outputs": [
    {
     "name": "stdout",
     "output_type": "stream",
     "text": [
      "[1, 2, 3, 4, 5, 6, 7, 8, 9, 10]\n",
      "<class 'generator'>\n"
     ]
    }
   ],
   "source": [
    "\n",
    "from collections.abc import Iterator\n",
    "def my_range(start : int , end : int , step : int=1)->Iterator[int]:\n",
    "    for i in range(start,end+1,step):\n",
    "        yield i\n",
    "\n",
    "iterator_variable : Iterator[int] = my_range(1,10)\n",
    "print(list(iterator_variable))\n",
    "print(type(iterator_variable))\n"
   ]
  },
  {
   "cell_type": "code",
   "execution_count": 39,
   "metadata": {},
   "outputs": [
    {
     "name": "stdout",
     "output_type": "stream",
     "text": [
      "1\n",
      "2\n",
      "3\n",
      "4\n"
     ]
    }
   ],
   "source": [
    "iterator_variable = my_range(1,10)\n",
    "print(next(iterator_variable))\n",
    "print(next(iterator_variable))\n",
    "print(next(iterator_variable))\n",
    "print(next(iterator_variable))\n",
    "\n",
    "\n"
   ]
  },
  {
   "cell_type": "code",
   "execution_count": 40,
   "metadata": {},
   "outputs": [
    {
     "name": "stdout",
     "output_type": "stream",
     "text": [
      "5\n",
      "6\n",
      "7\n",
      "8\n",
      "9\n",
      "10\n"
     ]
    }
   ],
   "source": [
    "for i in iterator_variable:\n",
    "    print(i)"
   ]
  },
  {
   "cell_type": "markdown",
   "metadata": {},
   "source": [
    "# pass unlimited argument"
   ]
  },
  {
   "cell_type": "code",
   "execution_count": 46,
   "metadata": {},
   "outputs": [
    {
     "name": "stdout",
     "output_type": "stream",
     "text": [
      "(1, 2, 3, 4, 5, 6) <class 'tuple'>\n"
     ]
    }
   ],
   "source": [
    "def abc(*nums):\n",
    "    print(nums, type(nums))\n",
    "\n",
    "abc(1,2,3,4,5,6)\n"
   ]
  },
  {
   "cell_type": "code",
   "execution_count": 44,
   "metadata": {},
   "outputs": [
    {
     "name": "stdout",
     "output_type": "stream",
     "text": [
      "Hello Monica\n",
      "Hello Luke\n",
      "Hello Steve\n",
      "Hello John\n"
     ]
    }
   ],
   "source": [
    "from typing import Tuple\n",
    "def greet(*names: Tuple[str, ...])->None:\n",
    "    \"\"\"\n",
    "    This function greets all persons in the names tuple\n",
    "    \"\"\"\n",
    "    for name in names:\n",
    "        print(\"Hello\", name)\n",
    "\n",
    "greet(\"Monica\",\"Luke\",\"Steve\",\"John\")"
   ]
  },
  {
   "cell_type": "code",
   "execution_count": 51,
   "metadata": {},
   "outputs": [
    {
     "name": "stdout",
     "output_type": "stream",
     "text": [
      "num 1 is 4 and num 2 is 2\n",
      "6\n"
     ]
    }
   ],
   "source": [
    "#                    param1       param2\n",
    "def add_two_nummbers(num1 : int , num2 : int)->int:\n",
    "    print(f\"num 1 is {num1} and num 2 is {num2}\")\n",
    "    return num1 + num2\n",
    "#                       arg1,arg2\n",
    "x : int = add_two_nummbers(num2=2,num1=4)\n",
    "print(x)"
   ]
  },
  {
   "cell_type": "code",
   "execution_count": 52,
   "metadata": {},
   "outputs": [
    {
     "name": "stdout",
     "output_type": "stream",
     "text": [
      "{'a': 7, 'b': 20, 'c': 30, 'x': 1, 'y': 2, 'name': 'Suhaib'} <class 'dict'>\n"
     ]
    }
   ],
   "source": [
    "def xyz(**kargs):\n",
    "    print(kargs, type(kargs))\n",
    "\n",
    "xyz(a=7, b=20, c=30, x=1, y=2, name=\"Suhaib\")\n",
    "#returned a dictionary"
   ]
  },
  {
   "cell_type": "code",
   "execution_count": 53,
   "metadata": {},
   "outputs": [
    {
     "name": "stdout",
     "output_type": "stream",
     "text": [
      "1 2 (7, 9, 9, 9) {'c': 20, 'd': 30, 'x': 100}\n"
     ]
    }
   ],
   "source": [
    "def my_function(a, b,*abc, **xyz):\n",
    "    print(a,b,abc,xyz)\n",
    "\n",
    "my_function(1,2,7,9,9,9,c=20,d=30,x=100)"
   ]
  },
  {
   "cell_type": "code",
   "execution_count": 54,
   "metadata": {},
   "outputs": [
    {
     "name": "stdout",
     "output_type": "stream",
     "text": [
      "Hello Monica\n",
      "Hello Luke\n",
      "Hello Steve\n",
      "Hello John\n",
      "Hello abc\n",
      "Hello xyz\n"
     ]
    }
   ],
   "source": [
    "from typing import Tuple\n",
    "def greet(*names: Tuple[str, ...])->None:\n",
    "    \"\"\"\n",
    "    This function greets all persons in the names tuple\n",
    "    \"\"\"\n",
    "    for name in names:\n",
    "        print(\"Hello\", name)\n",
    "\n",
    "greet(\"Monica\",\"Luke\",\"Steve\",\"John\",\"abc\",\"xyz\")"
   ]
  },
  {
   "cell_type": "code",
   "execution_count": 56,
   "metadata": {},
   "outputs": [
    {
     "name": "stdout",
     "output_type": "stream",
     "text": [
      "{'a': 'pakistan', 'b': 'china'}\n"
     ]
    }
   ],
   "source": [
    "from typing import Tuple, Dict\n",
    "\n",
    "def greet(**xyz: Dict[str,str])->None:\n",
    "    print(xyz)\n",
    "\n",
    "greet(a='pakistan',b='china')"
   ]
  },
  {
   "cell_type": "code",
   "execution_count": 57,
   "metadata": {},
   "outputs": [
    {
     "name": "stdout",
     "output_type": "stream",
     "text": [
      "1 2 (7, 9, 9, 9) {'c': 20, 'd': 30, 'x': 100}\n"
     ]
    }
   ],
   "source": [
    "from typing import Tuple, Dict\n",
    "def my_function(a:int, b:int,*abc:Tuple[int, ...], **xyz:Dict[str,int])->None:\n",
    "    print(a,b,abc,xyz)\n",
    "\n",
    "my_function(1,2,7,9,9,9,c=20,d=30,x=100)"
   ]
  },
  {
   "cell_type": "code",
   "execution_count": 58,
   "metadata": {},
   "outputs": [
    {
     "name": "stdout",
     "output_type": "stream",
     "text": [
      "1 2 (7, 9, 9, 9) {'c': 20, 'd': 30, 'x': 100}\n"
     ]
    }
   ],
   "source": [
    "def my_function(a:int, b:int,*abc:int, **xyz:int)->None:\n",
    "    print(a,b,abc,xyz)\n",
    "\n",
    "my_function(1,2,7,9,9,9,c=20,d=30,x=100)"
   ]
  },
  {
   "cell_type": "markdown",
   "metadata": {},
   "source": [
    "# Decorator Function"
   ]
  },
  {
   "cell_type": "code",
   "execution_count": 59,
   "metadata": {},
   "outputs": [
    {
     "name": "stdout",
     "output_type": "stream",
     "text": [
      "Something is happening before the function is called.\n",
      "Hello!:\n",
      "Something is happening after the function is called\n"
     ]
    }
   ],
   "source": [
    "from typing import Callable\n",
    "def decorator(func: Callable[[],None]) -> Callable[[], None]:\n",
    "    def wrapper() -> None:\n",
    "        print(\"Something is happening before the function is called.\")\n",
    "        func()\n",
    "        print(\"Something is happening after the function is called\")\n",
    "    return wrapper\n",
    "\n",
    "@decorator\n",
    "def say_hello() -> None:\n",
    "    print(\"Hello!:\")\n",
    "\n",
    "say_hello() "
   ]
  },
  {
   "cell_type": "code",
   "execution_count": 63,
   "metadata": {},
   "outputs": [
    {
     "name": "stdout",
     "output_type": "stream",
     "text": [
      "Something is happening before the function is called.\n",
      "100\n",
      "Something is happening after the function is called\n"
     ]
    }
   ],
   "source": [
    "from typing import Callable\n",
    "def decorator(func: Callable[[int],None]) -> Callable[[int], None]:\n",
    "    def wrapper(num1:int) -> None:\n",
    "        print(\"Something is happening before the function is called.\")\n",
    "        func(num1)\n",
    "        print(\"Something is happening after the function is called\")\n",
    "    return wrapper\n",
    "\n",
    "@decorator\n",
    "def say_hello(num1:int) -> None:\n",
    "    print(num1)\n",
    "\n",
    "say_hello(100) "
   ]
  },
  {
   "cell_type": "markdown",
   "metadata": {},
   "source": [
    "# Recursive Function\n",
    "* function calling within a function"
   ]
  },
  {
   "cell_type": "code",
   "execution_count": 64,
   "metadata": {},
   "outputs": [
    {
     "name": "stdout",
     "output_type": "stream",
     "text": [
      "The factorial of 5 is 120\n"
     ]
    }
   ],
   "source": [
    "def factorial(x : int)->int:\n",
    "    \"\"\"\n",
    "     This is a recursive function to find\n",
    "     the factorial of an integer\n",
    "\n",
    "    \"\"\"\n",
    "    if x==1:\n",
    "        return 1\n",
    "    else:\n",
    "        return (x * factorial(x-1))\n",
    "    \n",
    "num=5\n",
    "print(\"The factorial of\", num,\"is\", factorial(num))\n"
   ]
  }
 ],
 "metadata": {
  "kernelspec": {
   "display_name": "Python 3",
   "language": "python",
   "name": "python3"
  },
  "language_info": {
   "codemirror_mode": {
    "name": "ipython",
    "version": 3
   },
   "file_extension": ".py",
   "mimetype": "text/x-python",
   "name": "python",
   "nbconvert_exporter": "python",
   "pygments_lexer": "ipython3",
   "version": "3.12.2"
  }
 },
 "nbformat": 4,
 "nbformat_minor": 2
}
